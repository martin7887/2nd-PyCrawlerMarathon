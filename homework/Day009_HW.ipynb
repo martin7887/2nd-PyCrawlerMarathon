{
 "cells": [
  {
   "cell_type": "markdown",
   "metadata": {},
   "source": [
    "# 作業\n",
    "\n",
    "以正確的副檔名下載網頁中的圖片\n",
    "範例網頁:https://www.ptt.cc/bbs/Beauty/M.1556291059.A.75A.html\n",
    "\n",
    "Note：因為 PTT 會詢問「是否滿 18 歲」，這邊可以用 cookies 繞過\n",
    "\n",
    "`requests.get(URL, cookies={'over18': '1'}`\n"
   ]
  },
  {
   "cell_type": "code",
   "execution_count": 2,
   "metadata": {},
   "outputs": [],
   "source": [
    "import requests\n",
    "import os\n",
    "\n",
    "from bs4 import BeautifulSoup\n",
    "from PIL import Image"
   ]
  },
  {
   "cell_type": "code",
   "execution_count": 3,
   "metadata": {},
   "outputs": [],
   "source": [
    "url = 'https://www.ptt.cc/bbs/Beauty/M.1556291059.A.75A.html'\n",
    "resp = requests.get(url, cookies={'over18': '1'})\n",
    "soup = BeautifulSoup(resp.text,'lxml')"
   ]
  },
  {
   "cell_type": "code",
   "execution_count": 28,
   "metadata": {},
   "outputs": [
    {
     "data": {
      "text/plain": [
       "[<a href=\"https://imgur.com/Cgb5oo1\" rel=\"nofollow\" target=\"_blank\">https://imgur.com/Cgb5oo1</a>,\n",
       " <a href=\"https://imgur.com/MgjHY4f\" rel=\"nofollow\" target=\"_blank\">https://imgur.com/MgjHY4f</a>,\n",
       " <a href=\"https://imgur.com/yeoRtAs\" rel=\"nofollow\" target=\"_blank\">https://imgur.com/yeoRtAs</a>,\n",
       " <a href=\"https://imgur.com/wsauNEW\" rel=\"nofollow\" target=\"_blank\">https://imgur.com/wsauNEW</a>,\n",
       " <a href=\"https://imgur.com/IjiETcs\" rel=\"nofollow\" target=\"_blank\">https://imgur.com/IjiETcs</a>]"
      ]
     },
     "execution_count": 28,
     "metadata": {},
     "output_type": "execute_result"
    }
   ],
   "source": [
    "image_tags = soup.find(id='main-content').findChildren('a', recursive=False)\n",
    "image_tags"
   ]
  },
  {
   "cell_type": "code",
   "execution_count": 60,
   "metadata": {},
   "outputs": [
    {
     "name": "stdout",
     "output_type": "stream",
     "text": [
      "正在下載 Cgb5oo1.jpeg form https://imgur.com/Cgb5oo1.jpg\n",
      "正在下載 MgjHY4f.jpeg form https://imgur.com/MgjHY4f.jpg\n",
      "正在下載 yeoRtAs.jpeg form https://imgur.com/yeoRtAs.jpg\n",
      "正在下載 wsauNEW.jpeg form https://imgur.com/wsauNEW.jpg\n",
      "正在下載 IjiETcs.jpeg form https://imgur.com/IjiETcs.jpg\n",
      "Done\n"
     ]
    }
   ],
   "source": [
    "# 決定要儲存的資料夾\n",
    "output_dir = 'downloads'\n",
    "\n",
    "# 假如資料夾不存在就新增一個資料夾\n",
    "if not os.path.exists(output_dir):\n",
    "    os.makedirs(output_dir)\n",
    "\n",
    "image_tags = soup.find(id='main-content').findChildren('a', recursive=False)\n",
    "    \n",
    "for ele in image_tags:\n",
    "    if 'imgur' not in ele['href']:\n",
    "        continue\n",
    "    else:\n",
    "        imgurl = ele['href']+'.jpg'\n",
    "        with requests.get(imgurl, stream=True) as r:\n",
    "            r.raise_for_status()\n",
    "            # 開啟檔案\n",
    "            img = Image.open(r.raw)\n",
    "            # 取得圖片副檔名\n",
    "            img_extname = img.format.lower()\n",
    "            # 重組檔案路徑(資料夾/檔案名稱/副檔名)\n",
    "            filename = imgurl.split('/')[-1].replace('.jpg',\"\").replace('.png',\"\")\n",
    "            path = f'{output_dir}/{filename}.{img_extname}'\n",
    "            print('正在下載 '+f'{filename}.{img_extname}'+' form '+imgurl)\n",
    "            # 儲存檔案\n",
    "            img.save(path)\n",
    "print('Done')"
   ]
  },
  {
   "cell_type": "code",
   "execution_count": 69,
   "metadata": {},
   "outputs": [
    {
     "name": "stdout",
     "output_type": "stream",
     "text": [
      "儲存路徑： downloads2/Cgb5oo1.jpg\n"
     ]
    },
    {
     "data": {
      "text/plain": [
       "('downloads2/Cgb5oo1.jpg', <http.client.HTTPMessage at 0x7fd1e15aa7d0>)"
      ]
     },
     "execution_count": 69,
     "metadata": {},
     "output_type": "execute_result"
    },
    {
     "name": "stdout",
     "output_type": "stream",
     "text": [
      "檔案大小：272KB\n",
      "\n",
      "儲存路徑： downloads2/MgjHY4f.jpg\n"
     ]
    },
    {
     "data": {
      "text/plain": [
       "('downloads2/MgjHY4f.jpg', <http.client.HTTPMessage at 0x7fd1e133fb50>)"
      ]
     },
     "execution_count": 69,
     "metadata": {},
     "output_type": "execute_result"
    },
    {
     "name": "stdout",
     "output_type": "stream",
     "text": [
      "檔案大小：43KB\n",
      "\n",
      "儲存路徑： downloads2/yeoRtAs.jpg\n"
     ]
    },
    {
     "data": {
      "text/plain": [
       "('downloads2/yeoRtAs.jpg', <http.client.HTTPMessage at 0x7fd1c1fd1f90>)"
      ]
     },
     "execution_count": 69,
     "metadata": {},
     "output_type": "execute_result"
    },
    {
     "name": "stdout",
     "output_type": "stream",
     "text": [
      "檔案大小：61KB\n",
      "\n",
      "儲存路徑： downloads2/wsauNEW.jpg\n"
     ]
    },
    {
     "data": {
      "text/plain": [
       "('downloads2/wsauNEW.jpg', <http.client.HTTPMessage at 0x7fd1e11bec90>)"
      ]
     },
     "execution_count": 69,
     "metadata": {},
     "output_type": "execute_result"
    },
    {
     "name": "stdout",
     "output_type": "stream",
     "text": [
      "檔案大小：82KB\n",
      "\n",
      "儲存路徑： downloads2/IjiETcs.jpg\n"
     ]
    },
    {
     "data": {
      "text/plain": [
       "('downloads2/IjiETcs.jpg', <http.client.HTTPMessage at 0x7fd1c1fd1550>)"
      ]
     },
     "execution_count": 69,
     "metadata": {},
     "output_type": "execute_result"
    },
    {
     "name": "stdout",
     "output_type": "stream",
     "text": [
      "檔案大小：170KB\n",
      "\n"
     ]
    }
   ],
   "source": [
    "url = 'https://imgur.com/Cgb5oo1.jpg'\n",
    "download_dir = 'downloads2'\n",
    "\n",
    "if not os.path.exists(download_dir):\n",
    "    os.makedirs(download_dir)\n",
    "image_tags = soup.find(id='main-content').findChildren('a', recursive=False)\n",
    "    \n",
    "for ele in image_tags:\n",
    "    if 'imgur' not in ele['href']:\n",
    "        continue\n",
    "    else:\n",
    "        imgurl = ele['href']+'.jpg'\n",
    "        filename = os.path.basename(imgurl)\n",
    "#         print('從url取得的檔案名稱：',filename)\n",
    "        savepath = os.path.join(download_dir,filename)\n",
    "        print('儲存路徑：',savepath)\n",
    "\n",
    "        urlretrieve(imgurl, savepath,)\n",
    "\n",
    "        filesize = os.path.getsize(savepath)\n",
    "        filesize_kb =filesize/1024\n",
    "        print(f'檔案大小：{filesize_kb:.0f}KB\\n')"
   ]
  }
 ],
 "metadata": {
  "kernelspec": {
   "display_name": "Python 3",
   "language": "python",
   "name": "python3"
  },
  "language_info": {
   "codemirror_mode": {
    "name": "ipython",
    "version": 3
   },
   "file_extension": ".py",
   "mimetype": "text/x-python",
   "name": "python",
   "nbconvert_exporter": "python",
   "pygments_lexer": "ipython3",
   "version": "3.7.4"
  },
  "nbTranslate": {
   "displayLangs": [
    "*"
   ],
   "hotkey": "alt-t",
   "langInMainMenu": true,
   "sourceLang": "en",
   "targetLang": "fr",
   "useGoogleTranslate": true
  },
  "toc": {
   "base_numbering": 1,
   "nav_menu": {},
   "number_sections": true,
   "sideBar": true,
   "skip_h1_title": false,
   "title_cell": "Table of Contents",
   "title_sidebar": "Contents",
   "toc_cell": false,
   "toc_position": {},
   "toc_section_display": true,
   "toc_window_display": false
  },
  "varInspector": {
   "cols": {
    "lenName": 16,
    "lenType": 16,
    "lenVar": 40
   },
   "kernels_config": {
    "python": {
     "delete_cmd_postfix": "",
     "delete_cmd_prefix": "del ",
     "library": "var_list.py",
     "varRefreshCmd": "print(var_dic_list())"
    },
    "r": {
     "delete_cmd_postfix": ") ",
     "delete_cmd_prefix": "rm(",
     "library": "var_list.r",
     "varRefreshCmd": "cat(var_dic_list()) "
    }
   },
   "types_to_exclude": [
    "module",
    "function",
    "builtin_function_or_method",
    "instance",
    "_Feature"
   ],
   "window_display": false
  }
 },
 "nbformat": 4,
 "nbformat_minor": 2
}
