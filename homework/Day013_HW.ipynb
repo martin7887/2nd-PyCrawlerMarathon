{
 "cells": [
  {
   "cell_type": "markdown",
   "metadata": {},
   "source": [
    "# PTT 網路爬蟲實作練習\n",
    "\n",
    "\n",
    "* 能夠利用 Request + BeatifulSour 撰寫爬蟲，並存放到合適的資料結構\n"
   ]
  },
  {
   "cell_type": "markdown",
   "metadata": {},
   "source": [
    "## 作業目標\n",
    "\n",
    "根據範例 ，完成以下問題：\n",
    "\n",
    "* ① 印出最新文章的「作者」「標題」「時間」\n",
    "* ② 印出第一頁所有文章的「作者」「標題」「時間」\n"
   ]
  },
  {
   "cell_type": "markdown",
   "metadata": {},
   "source": [
    "### ① 印出最新文章的「作者」「標題」「時間」"
   ]
  },
  {
   "cell_type": "code",
   "execution_count": 18,
   "metadata": {},
   "outputs": [
    {
     "data": {
      "text/plain": [
       "<div class=\"r-ent\">\n",
       "<div class=\"nrec\"><span class=\"hl f3\">35</span></div>\n",
       "<div class=\"title\">\n",
       "<a href=\"/bbs/NBA/M.1583724872.A.30D.html\">[討論] NBA停賽的可能性?!</a>\n",
       "</div>\n",
       "<div class=\"meta\">\n",
       "<div class=\"author\">sthho</div>\n",
       "<div class=\"article-menu\">\n",
       "<div class=\"trigger\">⋯</div>\n",
       "<div class=\"dropdown\">\n",
       "<div class=\"item\"><a href=\"/bbs/NBA/search?q=thread%3A%5B%E8%A8%8E%E8%AB%96%5D+NBA%E5%81%9C%E8%B3%BD%E7%9A%84%E5%8F%AF%E8%83%BD%E6%80%A7%3F%21\">搜尋同標題文章</a></div>\n",
       "<div class=\"item\"><a href=\"/bbs/NBA/search?q=author%3Asthho\">搜尋看板內 sthho 的文章</a></div>\n",
       "</div>\n",
       "</div>\n",
       "<div class=\"date\"> 3/09</div>\n",
       "<div class=\"mark\"></div>\n",
       "</div>\n",
       "</div>"
      ]
     },
     "execution_count": 18,
     "metadata": {},
     "output_type": "execute_result"
    },
    {
     "name": "stdout",
     "output_type": "stream",
     "text": [
      "sthho\n",
      "https://www.ptt.cc/bbs/NBA/M.1583724872.A.30D.html\n",
      " 3/09\n"
     ]
    }
   ],
   "source": [
    "import requests\n",
    "from bs4 import BeautifulSoup\n",
    "\n",
    "url = 'https://www.ptt.cc/bbs/NBA/index.html'\n",
    "domain = 'https://www.ptt.cc'\n",
    "r = requests.get(url)\n",
    "\n",
    "soup = BeautifulSoup(r.text, \"lxml\")\n",
    "\n",
    "data = soup.find('div','r-ent')\n",
    "\n",
    "author = data.find('div','author').text\n",
    "url = domain+data.find(\"a\")['href']\n",
    "date = data.find(\"div\",\"date\").text\n",
    "\n",
    "printlist=[author,url,date]\n",
    "for ele in printlist:\n",
    "    print(ele)"
   ]
  },
  {
   "cell_type": "markdown",
   "metadata": {},
   "source": [
    "### ② 印出第一頁所有文章的「作者」「標題」「時間」"
   ]
  },
  {
   "cell_type": "code",
   "execution_count": 22,
   "metadata": {},
   "outputs": [
    {
     "name": "stdout",
     "output_type": "stream",
     "text": [
      "作者： sthho\n",
      "標題： [討論] NBA停賽的可能性?!\n",
      "時間：  3/09\n",
      "====================\n",
      "作者： Rambo\n",
      "標題： [BOX ] Raptors 118:113 Kings 數據\n",
      "時間：  3/09\n",
      "====================\n",
      "作者： Vedan\n",
      "標題： [公告] 第一次被退文，可在三天後刪除退文\n",
      "時間：  3/09\n",
      "====================\n",
      "作者： sodistrues\n",
      "標題： [新聞]全陣快艇吞第一敗 湖人本季洛城內戰首開\n",
      "時間：  3/09\n",
      "====================\n",
      "作者： NSYSUheng\n",
      "標題： [情報] 雷霆本季16次前三節落後逆轉勝 聯盟最多\n",
      "時間：  3/09\n",
      "====================\n",
      "作者： MayBeSoft\n",
      "標題： [討論] 快艇是不是被騙了買到假貨啊\n",
      "時間：  3/09\n",
      "====================\n",
      "作者： UCAthena\n",
      "標題： [花邊] 球迷嗆Walton：你這白痴，你有三分冠軍\n",
      "時間：  3/09\n",
      "====================\n",
      "作者： IAMGRICE\n",
      "標題： Re: [花邊] 歐尼爾:誰能擊敗這五個人！\n",
      "時間：  3/09\n",
      "====================\n",
      "作者： Vedan\n",
      "標題： [公告] 板規v6.8\n",
      "時間：  5/24\n",
      "====================\n",
      "作者： qazwsx879345\n",
      "標題： [公告] 版主上任相關事項 \n",
      "時間： 10/25\n",
      "====================\n",
      "作者： Acetoxy\n",
      "標題： [情報] SEASON Schedule 賽程 March 19–20\n",
      "時間：  3/02\n",
      "====================\n",
      "作者： Vedan\n",
      "標題： Fw: [公告] 即日起開放 NTU 信箱註冊帳號\n",
      "時間：  3/04\n",
      "====================\n",
      "作者： Vedan\n",
      "標題： Fw: [公告] 台灣大學學生帳號註冊辦法\n",
      "時間：  3/04\n",
      "====================\n"
     ]
    }
   ],
   "source": [
    "titles = soup.select('.title a')\n",
    "authors = soup.select('.author')\n",
    "dates = soup.select('.date')\n",
    "\n",
    "for title,author,date in zip(titles,authors,dates):\n",
    "    print('作者：',author.text)\n",
    "    print('標題：',title.text)\n",
    "    print('時間：',date.text)\n",
    "    print('='*20)"
   ]
  },
  {
   "cell_type": "markdown",
   "metadata": {},
   "source": [
    "### ③ 試著爬爬看其他版的文章"
   ]
  },
  {
   "cell_type": "code",
   "execution_count": 23,
   "metadata": {},
   "outputs": [],
   "source": [
    "import requests\n",
    "from bs4 import BeautifulSoup\n",
    "\n",
    "def ptt_Crawler(url):\n",
    "    domain = 'https://www.ptt.cc'\n",
    "    r = requests.get(url)\n",
    "    soup = BeautifulSoup(r.text, \"lxml\")\n",
    "    titles = soup.select('.title a')\n",
    "    authors = soup.select('.author')\n",
    "    dates = soup.select('.date')\n",
    "\n",
    "    for title,author,date in zip(titles,authors,dates):\n",
    "        print('作者：',author.text)\n",
    "        print('標題：',title.text)\n",
    "        print('時間：',date.text)\n",
    "        print('='*20)\n",
    "\n"
   ]
  },
  {
   "cell_type": "code",
   "execution_count": 24,
   "metadata": {},
   "outputs": [
    {
     "name": "stdout",
     "output_type": "stream",
     "text": [
      "作者： tdog\n",
      "標題： Re: [心得] 畢業文 從此不買石油股\n",
      "時間：  3/09\n",
      "====================\n",
      "作者： kidla\n",
      "標題： [新聞] 美國武漢肺炎疫情蔓延30多州 專家警告恐\n",
      "時間：  3/09\n",
      "====================\n",
      "作者： D600dust\n",
      "標題： Re: [標的] 口罩股\n",
      "時間：  3/09\n",
      "====================\n",
      "作者： Reewalker\n",
      "標題： [新聞] 一銀董座廖燦昌 最懂中小企的銀行家\n",
      "時間：  3/09\n",
      "====================\n",
      "作者： loveseawind\n",
      "標題： [請益] 高手們都在做什麼動作?\n",
      "時間：  3/09\n",
      "====================\n",
      "作者： coconing\n",
      "標題： [其他] 109年03月09日 三大法人買賣金額統計表\n",
      "時間：  3/09\n",
      "====================\n",
      "作者： dcm5566\n",
      "標題： [標的] 2330台積電\n",
      "時間：  3/09\n",
      "====================\n",
      "作者： chopinmozart\n",
      "標題： [請益] 溢價的ETF什麼時候會恢復\n",
      "時間：  3/09\n",
      "====================\n",
      "作者： Gintin\n",
      "標題： [請益] 美股現在的位階合理嗎？\n",
      "時間：  3/09\n",
      "====================\n",
      "作者： humbler\n",
      "標題： [其他] 兆豐金109年2月合併自結損益\n",
      "時間：  3/09\n",
      "====================\n",
      "作者： realsiway\n",
      "標題： Re: [心得] 畢業文 從此不買石油股\n",
      "時間：  3/09\n",
      "====================\n",
      "作者： Tosca\n",
      "標題： Re: [標的] 2330台積電\n",
      "時間：  3/09\n",
      "====================\n",
      "作者： typeklng\n",
      "標題： [標的] 2618長榮航\n",
      "時間：  3/09\n",
      "====================\n",
      "作者： dcm5566\n",
      "標題： [新聞] 《業績-半導體》54.6億元！聯詠2月營收\n",
      "時間：  3/09\n",
      "====================\n",
      "作者： kidla\n",
      "標題： [新聞] 美國8州進入緊急狀態 川普自滿抗疫工作\n",
      "時間：  3/09\n",
      "====================\n",
      "作者： Ax0101\n",
      "標題： [新聞] 外資大逃殺！今日大砍台股545.58億元創史\n",
      "時間：  3/09\n",
      "====================\n",
      "作者： Cyborg\n",
      "標題： [請益] 00642u可買嗎？\n",
      "時間：  3/09\n",
      "====================\n",
      "作者： promptly\n",
      "標題： Re: [標的] 1402 遠東新\n",
      "時間：  3/09\n",
      "====================\n",
      "作者： IanLi\n",
      "標題： [公告] 精華區導覽Q&A\n",
      "時間：  1/25\n",
      "====================\n",
      "作者： eyespot\n",
      "標題： [公告] Stock 板規V2.6             (2019/06/20)\n",
      "時間： 11/03\n",
      "====================\n",
      "作者： noldorelf\n",
      "標題： [公告] 關於武漢肺炎新聞規範\n",
      "時間：  1/25\n",
      "====================\n",
      "作者： vendan5566\n",
      "標題： [閒聊] 2020/03/09 盤後閒聊\n",
      "時間：  3/09\n",
      "====================\n"
     ]
    }
   ],
   "source": [
    "#stock\n",
    "url = 'https://www.ptt.cc/bbs/Stock/index.html'\n",
    "ptt_Crawler(url)"
   ]
  }
 ],
 "metadata": {
  "kernelspec": {
   "display_name": "Python 3",
   "language": "python",
   "name": "python3"
  },
  "language_info": {
   "codemirror_mode": {
    "name": "ipython",
    "version": 3
   },
   "file_extension": ".py",
   "mimetype": "text/x-python",
   "name": "python",
   "nbconvert_exporter": "python",
   "pygments_lexer": "ipython3",
   "version": "3.7.4"
  },
  "nbTranslate": {
   "displayLangs": [
    "*"
   ],
   "hotkey": "alt-t",
   "langInMainMenu": true,
   "sourceLang": "en",
   "targetLang": "fr",
   "useGoogleTranslate": true
  },
  "toc": {
   "base_numbering": 1,
   "nav_menu": {},
   "number_sections": true,
   "sideBar": true,
   "skip_h1_title": false,
   "title_cell": "Table of Contents",
   "title_sidebar": "Contents",
   "toc_cell": false,
   "toc_position": {},
   "toc_section_display": true,
   "toc_window_display": false
  },
  "varInspector": {
   "cols": {
    "lenName": 16,
    "lenType": 16,
    "lenVar": 40
   },
   "kernels_config": {
    "python": {
     "delete_cmd_postfix": "",
     "delete_cmd_prefix": "del ",
     "library": "var_list.py",
     "varRefreshCmd": "print(var_dic_list())"
    },
    "r": {
     "delete_cmd_postfix": ") ",
     "delete_cmd_prefix": "rm(",
     "library": "var_list.r",
     "varRefreshCmd": "cat(var_dic_list()) "
    }
   },
   "types_to_exclude": [
    "module",
    "function",
    "builtin_function_or_method",
    "instance",
    "_Feature"
   ],
   "window_display": false
  }
 },
 "nbformat": 4,
 "nbformat_minor": 2
}
