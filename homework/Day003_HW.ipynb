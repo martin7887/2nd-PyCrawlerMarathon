{
 "cells": [
  {
   "cell_type": "markdown",
   "metadata": {},
   "source": [
    "# Python 下載XML檔案與解析\n",
    "\n",
    "\n",
    "* 了解 xml 檔案格式與內容\n",
    "* 能夠利用套件存取 xml 格式的檔案\n"
   ]
  },
  {
   "cell_type": "markdown",
   "metadata": {},
   "source": [
    "## 作業目標\n",
    "\n",
    "* 比較一下範例檔案中的「File I/O」與「xmltodict」讀出來的內容有什麼差異\n",
    "\n",
    "* 根據範例檔案的結果：\n",
    "    1. 請問高雄市有多少地區有溫度資料？\n",
    "    2. 請取出每一個地區所記錄的第一個時間點跟溫度\n",
    "    3. 請取出第一個地區所記錄的每一個時間點跟溫度"
   ]
  },
  {
   "cell_type": "markdown",
   "metadata": {},
   "source": [
    "### 比較一下範例檔案中的「File I/O」與「xmltodict」讀出來的內容有什麼差異\n"
   ]
  },
  {
   "cell_type": "code",
   "execution_count": 40,
   "metadata": {},
   "outputs": [
    {
     "name": "stdout",
     "output_type": "stream",
     "text": [
      "<?xml version=\"1.0\" encoding=\"UTF-8\"?>\n",
      "<CUPOY>\n",
      "    <Title>爬蟲馬拉松</Title>\n",
      "    <Author>Wei</Author>\n",
      "    <Chapters>\n",
      "        <Chapter name=\"01\">資料來源與存取</Chapter>\n",
      "        <Chapter name=\"02\">靜態網頁爬蟲</Chapter>\n",
      "        <Chapter name=\"03\">動態網頁爬蟲</Chapter>\n",
      "    </Chapters>\n",
      "</CUPOY>\n"
     ]
    }
   ],
   "source": [
    "with open('./Day003/sample.xml','r',encoding='utf-8') as f:\n",
    "    print(f.read())"
   ]
  },
  {
   "cell_type": "code",
   "execution_count": 1,
   "metadata": {},
   "outputs": [
    {
     "name": "stdout",
     "output_type": "stream",
     "text": [
      "{'CUPOY': OrderedDict([('Title', '爬蟲馬拉松'), ('Author', 'Wei'), ('Chapters', OrderedDict([('Chapter', [OrderedDict([('@name', '01'), ('#text', '資料來源與存取')]), OrderedDict([('@name', '02'), ('#text', '靜態網頁爬蟲')]), OrderedDict([('@name', '03'), ('#text', '動態網頁爬蟲')])])]))])}\n"
     ]
    }
   ],
   "source": [
    "import xmltodict\n",
    "\n",
    "with open('./Day003/sample.xml','r') as f:\n",
    "    doc = dict(xmltodict.parse(f.read()))\n",
    "print(doc)"
   ]
  },
  {
   "cell_type": "markdown",
   "metadata": {},
   "source": [
    "**二者差異**\n",
    "* i/o是用TAG的方式整理資料，xml是用dict的方式整理"
   ]
  },
  {
   "cell_type": "markdown",
   "metadata": {},
   "source": [
    "### 根據範例檔案的結果：\n",
    "\n",
    "1. 請問高雄市有多少地區有溫度資料？\n",
    "2. 請取出每一個地區所記錄的第一個時間點跟溫度\n",
    "3. 請取出第一個地區所記錄的每一個時間點跟溫度"
   ]
  },
  {
   "cell_type": "code",
   "execution_count": 100,
   "metadata": {},
   "outputs": [
    {
     "name": "stdout",
     "output_type": "stream",
     "text": [
      "64_72hr_CH.xml\n",
      "64_Weekday_CH.xml\n",
      "64_Week24_CH.xml\n"
     ]
    }
   ],
   "source": [
    "import os\n",
    "weather_reports_dir = './Day003/'\n",
    "weather_reports = os.listdir(weather_reports_dir)\n",
    "\n",
    "# 所有的中文版氣象資料\n",
    "CH_weather_reports = [weather_report for weather_report in weather_reports if 'CH' in weather_report ]\n",
    "i=0\n",
    "\n",
    "# 找出內含高雄的氣象資料\n",
    "for report in CH_weather_reports:\n",
    "    with open(weather_reports_dir+report,'r') as f:\n",
    "        content = dict(xmltodict.parse(f.read()))\n",
    "        city = content['cwbopendata']['dataset']['locations']['locationsName']\n",
    "        if '高雄市' in city:\n",
    "            print(report)\n"
   ]
  },
  {
   "cell_type": "code",
   "execution_count": 113,
   "metadata": {},
   "outputs": [
    {
     "name": "stdout",
     "output_type": "stream",
     "text": [
      "高雄市有 38 個地區有溫度資料\n"
     ]
    }
   ],
   "source": [
    "# 1. 請問高雄市有多少地區有溫度資料？\n",
    "\n",
    "#開啟，讀取檔案 高雄市的資料在64_Weekday_CH.xml\n",
    "with open('./Day003/64_Weekday_CH.xml','r') as f:\n",
    "    content = dict(xmltodict.parse(f.read()))\n",
    "    \n",
    "#利用.keys()的方式逐層找到高雄的行政區 ['cwbopendata']→['dataset']→['locations']→['location']\n",
    "\n",
    "dist_count = len(content['cwbopendata']['dataset']['locations']['location'])\n",
    "print('高雄市有',dist_count,'個地區有溫度資料')\n",
    "# for i in range(len(content['cwbopendata']['dataset']['locations']['location'])):\n",
    "#     if '高雄' in content['cwbopendata']['dataset']['locations']['location'][i]['locationName']:\n",
    "#         print(content['cwbopendata']['dataset']['locations']['location'][i]['locationName'],'is at',i)\n",
    "\n"
   ]
  },
  {
   "cell_type": "code",
   "execution_count": 134,
   "metadata": {},
   "outputs": [
    {
     "name": "stdout",
     "output_type": "stream",
     "text": [
      "鹽埕區 12:00 33\n",
      "鼓山區 12:00 33\n",
      "左營區 12:00 33\n",
      "楠梓區 12:00 34\n",
      "三民區 12:00 32\n",
      "新興區 12:00 33\n",
      "前金區 12:00 33\n",
      "苓雅區 12:00 33\n",
      "前鎮區 12:00 33\n",
      "旗津區 12:00 32\n",
      "小港區 12:00 33\n",
      "鳳山區 12:00 33\n",
      "林園區 12:00 33\n",
      "大寮區 12:00 34\n",
      "大樹區 12:00 34\n",
      "大社區 12:00 34\n",
      "仁武區 12:00 34\n",
      "鳥松區 12:00 33\n",
      "岡山區 12:00 34\n",
      "橋頭區 12:00 34\n",
      "燕巢區 12:00 34\n",
      "田寮區 12:00 34\n",
      "阿蓮區 12:00 34\n",
      "路竹區 12:00 33\n",
      "湖內區 12:00 33\n",
      "茄萣區 12:00 32\n",
      "永安區 12:00 32\n",
      "彌陀區 12:00 32\n",
      "梓官區 12:00 32\n",
      "旗山區 12:00 34\n",
      "美濃區 12:00 34\n",
      "六龜區 12:00 33\n",
      "甲仙區 12:00 32\n",
      "杉林區 12:00 35\n",
      "內門區 12:00 34\n",
      "茂林區 12:00 33\n",
      "桃源區 12:00 30\n",
      "那瑪夏區 12:00 28\n"
     ]
    }
   ],
   "source": [
    "# 2. 請取出每一個地區所記錄的第一個時間點跟溫度\n",
    "\n",
    "# dist_of_kao 行政區\n",
    "# first_time 測量的第一個時間點\n",
    "# temperature 溫度\n",
    "\n",
    "for i in range(dist_count):\n",
    "    dist_of_kao = content['cwbopendata']['dataset']['locations']['location'][i]['locationName']\n",
    "    first_time = content['cwbopendata']['dataset']['locations']['location'][i]['weatherElement'][0]['time'][0]['startTime']\n",
    "    temperature = content['cwbopendata']['dataset']['locations']['location'][i]['weatherElement'][0]['time'][0]['elementValue']['value']\n",
    "    print(dist_of_kao,first_time[11:16],temperature)\n"
   ]
  },
  {
   "cell_type": "code",
   "execution_count": 153,
   "metadata": {},
   "outputs": [
    {
     "name": "stdout",
     "output_type": "stream",
     "text": [
      "鹽埕區\n",
      "12:00 33 度\n",
      "18:00 30 度\n",
      "06:00 31 度\n",
      "18:00 29 度\n",
      "06:00 31 度\n",
      "18:00 29 度\n",
      "06:00 31 度\n",
      "18:00 30 度\n",
      "06:00 31 度\n",
      "18:00 30 度\n",
      "06:00 31 度\n",
      "18:00 29 度\n",
      "06:00 30 度\n",
      "18:00 29 度\n"
     ]
    }
   ],
   "source": [
    "# 3. 請取出第一個地區所記錄的每一個時間點跟溫度\n",
    "\n",
    "dist_of_kao = content['cwbopendata']['dataset']['locations']['location'][0]['locationName']\n",
    "time_step = len(content['cwbopendata']['dataset']['locations']['location'][0]['weatherElement'][0]['time'])\n",
    "\n",
    "print(dist_of_kao)\n",
    "for i in range(time_step):\n",
    "    time = content['cwbopendata']['dataset']['locations']['location'][0]['weatherElement'][0]['time'][i]['startTime'][11:16]\n",
    "    temperature = content['cwbopendata']['dataset']['locations']['location'][0]['weatherElement'][0]['time'][i]['elementValue']['value']\n",
    "    print(time,temperature,'度')\n"
   ]
  },
  {
   "cell_type": "code",
   "execution_count": null,
   "metadata": {},
   "outputs": [],
   "source": []
  }
 ],
 "metadata": {
  "kernelspec": {
   "display_name": "Python 3.x",
   "language": "python",
   "name": "python3.x"
  },
  "language_info": {
   "codemirror_mode": {
    "name": "ipython",
    "version": 3
   },
   "file_extension": ".py",
   "mimetype": "text/x-python",
   "name": "python",
   "nbconvert_exporter": "python",
   "pygments_lexer": "ipython3",
   "version": "3.7.0"
  },
  "nbTranslate": {
   "displayLangs": [
    "*"
   ],
   "hotkey": "alt-t",
   "langInMainMenu": true,
   "sourceLang": "en",
   "targetLang": "fr",
   "useGoogleTranslate": true
  },
  "toc": {
   "base_numbering": 1,
   "nav_menu": {},
   "number_sections": true,
   "sideBar": true,
   "skip_h1_title": false,
   "title_cell": "Table of Contents",
   "title_sidebar": "Contents",
   "toc_cell": false,
   "toc_position": {},
   "toc_section_display": true,
   "toc_window_display": false
  }
 },
 "nbformat": 4,
 "nbformat_minor": 2
}
