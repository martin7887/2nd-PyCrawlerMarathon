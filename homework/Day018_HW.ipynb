{
 "cells": [
  {
   "cell_type": "markdown",
   "metadata": {},
   "source": [
    "# 瀏覽器開發者工具介紹\n",
    "\n",
    "\n",
    "* 知道瀏覽器的開發者工具\n",
    "* 能夠使用瀏覽器的開發者工具觀察資料\n"
   ]
  },
  {
   "cell_type": "markdown",
   "metadata": {},
   "source": [
    "## 作業目標\n",
    "\n",
    "利用開發者工具去尋找「 https://www.zhihu.com/explore 」和「 http://aicoin.cn 」網站的 HTTP 網址，以及他所帶的 Headers 分別是哪些，試著用 request 去發送有沒有帶 Headers 的差異。\n"
   ]
  },
  {
   "cell_type": "markdown",
   "metadata": {},
   "source": [
    "### 1. https://www.zhihu.com/explore "
   ]
  },
  {
   "cell_type": "code",
   "execution_count": 1,
   "metadata": {
    "scrolled": true
   },
   "outputs": [
    {
     "name": "stdout",
     "output_type": "stream",
     "text": [
      "<html>\r\n",
      "<head><title>400 Bad Request</title></head>\r\n",
      "<body bgcolor=\"white\">\r\n",
      "<center><h1>400 Bad Request</h1></center>\r\n",
      "<hr><center>openresty</center>\r\n",
      "</body>\r\n",
      "</html>\r\n",
      "\n"
     ]
    }
   ],
   "source": [
    "import requests\n",
    "url = 'https://www.zhihu.com/explore'\n",
    "r = requests.get(url)\n",
    "r.encoding = 'utf-8'\n",
    "print(r.text)"
   ]
  },
  {
   "cell_type": "markdown",
   "metadata": {},
   "source": [
    "### 利用查看開發者工具觀察 Headers\n",
    "\n",
    "![](https://i.imgur.com/wYKNnAv.jpg)"
   ]
  },
  {
   "cell_type": "code",
   "execution_count": 3,
   "metadata": {},
   "outputs": [
    {
     "name": "stdout",
     "output_type": "stream",
     "text": [
      "<!doctype html>\n",
      "<html lang=\"zh\" data-hairline=\"true\" data-theme=\"light\"><head><meta charSet=\"utf-8\"/><title data-react-helmet=\"true\">知乎 - 有问题，上知乎</title><meta name=\"viewport\" content=\"width=device-width,initial-scale=1,maximum-scale=1\"/><meta name=\"renderer\" content=\"webkit\"/><meta name=\"force-rendering\" content=\"webkit\"/><meta http-equiv=\"X-UA-Compatible\" content=\"IE=edge,chrome=1\"/><meta name=\"google-site-verification\" content=\"FTeR0c8arOPKh8c5DYh_9uu98_zJbaWw53J-Sch9MTg\"/><meta name=\"description\" property=\"og:description\" content=\"有问题，上知乎。知乎，可信赖的问答社区，以让每个人高效获得可信赖的解答为使命。知乎凭借认真、专业和友善的社区氛围，结构化\n"
     ]
    }
   ],
   "source": [
    "import requests\n",
    "url = 'http://www.zhihu.com'\n",
    "\n",
    "headers = {\n",
    "    \"authority\": \"www.zhihu.com\",\n",
    "    \"method\": \"GET\",\n",
    "    \"path\": \"/explore\",\n",
    "    \"scheme\": \"https\",\n",
    "    \"accept\": \"text/html,application/xhtml+xml,application/xml;q=0.9,image/webp,image/apng,*/*;q=0.8,application/signed-exchange;v=b3;q=0.9\",\n",
    "    \"accept-encoding\": \"gzip, deflate, br\",\n",
    "    \"accept-language\": \"zh-TW,zh;q=0.9,en-US;q=0.8,en;q=0.7\",\n",
    "    \"cache-control\": 'max-age=0',\n",
    "    \"cookie\": '_xsrf=0wliQ1SCDhIeuzT6QztxqTzpmHMCaQEW; l_cap_id=\"ZWNhOWE5NDQ0OGJjNDBjOTlmNjRiNzU4MjU2Njg4NzQ=|1582867387|a01af8a547b57e240f50922b9c3d1a4494cb7673\"; r_cap_id=\"YTE4YTBjYTZjODA5NDhkMmE2NmY5ZTBkOWIzZDZmMGE=|1582867387|ff1bd3bf1719356c07f70250af927849debdea32\"; cap_id=\"MDY1ZjYxYTY4ZTE3NDg3ZTg4MjliMjkzZjBhZmE4ZGY=|1582867387|aced6602a20e5d74a9660800d5efc2e1e0d0ce7d\"; _zap=0ec42d21-d844-48f9-83ad-9044cabbc888; d_c0=\"AGBagpej4hCPTiYgpGnzLkbTFWgUs2jMYHU=|1582867394\"; SL_GWPT_Show_Hide_tmp=1; SL_wptGlobTipTmp=1; KLBRSID=cdfcc1d45d024a211bb7144f66bda2cf|1584075714|1584075621; capsion_ticket=\"2|1:0|10:1584075714|14:capsion_ticket|44:OTZmODczOWMyOTFhNDg0ZTlhM2VlNzcwNjgwYjdkOGQ=|a85d59fcc7df797ec5718cc9e698987ee29fc91dc0fea23b2333d57cedb94e40\"',\n",
    "    \"referer\": \"https://pycrawler-2.cupoy.com/mission/1581054951382\",\n",
    "    \"sec-fetch-dest\":\"document\",\n",
    "    \"sec-fetch-mode\":\"navigate\",\n",
    "    \"sec-fetch-site\":\"none\",\n",
    "    \"sec-fetch-user\":\"?1\",\n",
    "    \"upgrade-insecure-requests\":\"1\",\n",
    "    \"user-agent\":\"Mozilla/5.0 (Macintosh; Intel Mac OS X 10_15_3) AppleWebKit/537.36 (KHTML, like Gecko) Chrome/80.0.3987.132 Safari/537.36\",\n",
    "}\n",
    "\n",
    "r = requests.get(url, headers=headers)\n",
    "\n",
    "r.encoding = 'utf-8'\n",
    "print(r.text[0:600])"
   ]
  },
  {
   "cell_type": "markdown",
   "metadata": {},
   "source": [
    "### 2. http://aicoin.cn"
   ]
  },
  {
   "cell_type": "code",
   "execution_count": 4,
   "metadata": {},
   "outputs": [
    {
     "name": "stdout",
     "output_type": "stream",
     "text": [
      "<!DOCTYPE html><html style=\"height:100%;width:100%\"><head><meta http-equiv=\"Content-Type\" content=\"text/html; charset=utf-8\" /><meta http-equiv=\"Server\" content=\"CloudWAF\" /><title id=\"title\">访问被拦截！</title><script>function bindall() {var requestid = \"30-31-20-20200313130713-2c8e646f\";if(requestid==null || requestid == \"\"){return;}document.getElementById(\"d\").innerText = requestid;}</script></head><body onload=\"bindall()\" style=\"height:100%;width:100%;margin:0px;font-family:Microsoft yahei\"><div><style type=\"text/css\">\t.button{float:right;margin-right:2rem;text-decoration:none;background:white;color:#e94d4c;padding: 5px 15px 5px 15px;font-size:1rem;font-family: 微软雅黑,宋体,Arial,Helvetica,Verdana,sans-serif;font-weight:bold;border-radius:0rem;border: none;-webkit-transition:all linear 0.30s;-moz-transition:all linear 0.30s;}.button:hover{text-decoration:none;background:#e94d4c;color:#f2f2f2;}</style><input type=\"button\" class=\"button\" onclick=\"changeLanguageZh()\" value=\"中文\"/><input type=\"button\" class=\"button\"  onclick=\"changeLanguageEn()\" value=\"English\"/></div><div style=\"min-height:13.125rem;height:17%;width:100%\"><div style=\"margin-top:3.75rem;margin-left:18.4375rem;height:52.38;width:83.04%;\"><svg xmlns=\"http://www.w3.org/2000/svg\" style=\"width: 3.125rem;height: 3.125rem\" viewBox=\"0 0 50 50\"><path fill=\"#e84e4c\" d=\"M25,0A25,25,0,1,0,50,25,25,25,0,0,0,25,0Zm1.6,37.16H22.85V33.41H26.6Zm0-6.63H22.85L22.35,13H27.1Z\"/></svg><font style=\"font-family:MicrosoftYaHei;font-size:4.375rem;color:#e94d4c;margin-left: 0.75rem;font-weight: bold;\">418</font></div><div style=\"margin-left:18.4375rem;height:47.62%;width:83.04%;\"><font id=\"a\" style=\"font-family:MicrosoftYaHei;font-size:1.875rem;color:#999999;word-wrap:break-word;\">您的请求疑似攻击行为！</font><p style=\"font-family:MicrosoftYaHei;font-size:0.9rem;color:#999999;word-wrap:break-word;\"><span id=\"c\">事件ID：</span><span style=\"color:#499df2\" id=\"d\">False alarm ID</p></div></div><div style=\"height:15.625rem;width:100%;min-width:105rem;\"><div style=\"margin-left:18.4375rem;float:left;width:50rem\"><p id=\"b\" style=\"margin-top:10px\">如果您是站长，您可以前往WAF控制台进行误报屏蔽设置，让您的访问不再被拦截</p></div></div></body><script>function changeLanguageZh() {document.getElementById(\"title\").innerHTML = \"访问被拦截！\";document.getElementById(\"a\").innerHTML = \"您的请求疑似攻击行为！\";document.getElementById(\"b\").innerHTML = \"如果您是站长，您可以前往WAF控制台进行误报屏蔽设置，让您的访问不再被拦截\";document.getElementById(\"c\").innerHTML = \"事件ID：\";}function changeLanguageEn() {document.getElementById(\"title\").innerHTML = \"The access is blocked.\";document.getElementById(\"a\").innerHTML = \"Sorry, your request has been intercepted because it appears to be an attack.\";document.getElementById(\"b\").innerHTML = \"If you are the webmaster, configure related parameters on the WAF console to allow your requests.\";document.getElementById(\"c\").innerHTML = \"Event ID:\";}var language = navigator.language || navigator.browserLanguage;if (language.indexOf('zh') > -1) {changeLanguageZh();} else if (language.indexOf('en') > -1) {changeLanguageEn();} else{changeLanguageZh();}</script></html>\n",
      "\n"
     ]
    }
   ],
   "source": [
    "import requests\n",
    "\n",
    "url = 'http://aicoin.cn/'\n",
    "r = requests.get(url)\n",
    "r.encoding = 'utf-8'\n",
    "print(r.text)"
   ]
  },
  {
   "cell_type": "markdown",
   "metadata": {},
   "source": [
    "### 利用查看開發者工具觀察 Headers\n",
    "\n",
    "\n",
    "![](https://i.imgur.com/2iV8b5U.jpg)\n",
    "\n"
   ]
  },
  {
   "cell_type": "code",
   "execution_count": 7,
   "metadata": {},
   "outputs": [
    {
     "name": "stdout",
     "output_type": "stream",
     "text": [
      "<!DOCTYPE html><html lang=\"zh\"><head><meta charSet=\"utf-8\" class=\"next-head\"/><meta name=\"viewport\" content=\"width=device-width, initial-scale=1\" class=\"jsx-1671588135 next-head\"/><meta name=\"description\" content=\"AICoin拥有全面而优质的区块链资源，提供实时行情、专业K线、数据分析、资产管理等专业服务，更高效地提供有价值的信息，提升资产管理的效率，成为行情数据分析的领跑者。\" class=\"jsx-1671588135 next-head\"/><link rel=\"canonical\" href=\"https://www.aicoin.cn?lang=zh\" class=\"jsx-1671588135 next-head\"/><title class=\"jsx-1671588135 next-head\">AICoin - 为价值 · 更高效</title><link rel=\"preload\" href=\"https://assets-www.aicoin.net.cn/beta-v20/_next/static/W~5~GQuhDQBV8oJZHLEVR/pages\n"
     ]
    }
   ],
   "source": [
    "import requests\n",
    "url = 'https://www.aicoin.cn/'\n",
    "\n",
    "headers = {\n",
    "    \"Accept\": 'text/html,application/xhtml+xml,application/xml;q=0.9,image/webp,image/apng,*/*;q=0.8,application/signed-exchange;v=b3;q=0.9',\n",
    "    \"Accept-Encoding\": 'gzip, deflate, br',\n",
    "    \"Accept-Language\": 'zh-TW,zh;q=0.9,en-US;q=0.8,en;q=0.7',\n",
    "    \"Cache-Control\": 'max-age=0',\n",
    "    \"Connection\": 'keep-alive',\n",
    "#     \"Cookie\": 'HWWAFSESID=242a0798e5df52247e; HWWAFSESTIME=1584093561500; Hm_lvt_3c606e4c5bc6e9ff490f59ae4106beb4=1584093569; Hm_lpvt_3c606e4c5bc6e9ff490f59ae4106beb4=1584093569; _ga=GA1.2.1015178876.1584093569; _gid=GA1.2.810566244.1584093569; _gat_gtag_UA_108140256_2=1; SL_GWPT_Show_Hide_tmp=1; SL_wptGlobTipTmp=1; aicoin_session=eyJpdiI6ImtJdzlVZVwvMGlvblVNR2NDaFVTeXV3PT0iLCJ2YWx1ZSI6IjI0WGFBQVhEeGV0R2FNcGlXVDRYR2R1ZjAxNnJ6K05NYUNwYjMxQTN2YUFjXC9tNmhHZG5QTWw0R0FSZXpubU5IaHlBUDRZRFBwNkxtZjJiSmROYk1QQT09IiwibWFjIjoiYzEyYWIzMmQxNTE3MjMxMDIyZjU3ZTQ4MTU5YjBhMGNjYWQzNTBmMWE4ODVmMzIzMWJiMjVmOGQzY2JiZDY3MyJ9; _pk_testcookie..undefined=1; _pk_testcookie.2.57ea=1; _pk_ref.2.57ea=%5B%22%22%2C%22%22%2C1584093570%2C%22https%3A%2F%2Fwww.google.com%2F%22%5D; _pk_id.2.57ea=7d8ba7a3cea34c91.1584093570.1.1584093570.1584093570.; _pk_ses.2.57ea=1',\n",
    "    \"Host\": 'www.aicoin.cn',\n",
    "    \"If-None-Match\": 'W/\"161fbb-TOvXb/2c08deLBNgjlTNDwb/rYA\"',\n",
    "    \"Referer\": 'https://www.google.com/',\n",
    "    \"Sec-Fetch-Dest\": 'document',\n",
    "    \"Sec-Fetch-Mode\": 'navigate',\n",
    "    \"Sec-Fetch-Site\": 'same-origin',\n",
    "    \"Sec-Fetch-User\": '?1',\n",
    "    \"Upgrade-Insecure-Requests\": '1',\n",
    "    \"User-Agent\": 'Mozilla/5.0 (Macintosh; Intel Mac OS X 10_15_3) AppleWebKit/537.36 (KHTML, like Gecko) Chrome/80.0.3987.132 Safari/537.36',\n",
    "}\n",
    "\n",
    "r = requests.get(url, headers=headers)\n",
    "print(r.text[0:600])"
   ]
  },
  {
   "cell_type": "code",
   "execution_count": null,
   "metadata": {},
   "outputs": [],
   "source": []
  },
  {
   "cell_type": "code",
   "execution_count": null,
   "metadata": {},
   "outputs": [],
   "source": []
  }
 ],
 "metadata": {
  "kernelspec": {
   "display_name": "Python 3",
   "language": "python",
   "name": "python3"
  },
  "language_info": {
   "codemirror_mode": {
    "name": "ipython",
    "version": 3
   },
   "file_extension": ".py",
   "mimetype": "text/x-python",
   "name": "python",
   "nbconvert_exporter": "python",
   "pygments_lexer": "ipython3",
   "version": "3.7.4"
  },
  "nbTranslate": {
   "displayLangs": [
    "*"
   ],
   "hotkey": "alt-t",
   "langInMainMenu": true,
   "sourceLang": "en",
   "targetLang": "fr",
   "useGoogleTranslate": true
  },
  "toc": {
   "base_numbering": 1,
   "nav_menu": {},
   "number_sections": true,
   "sideBar": true,
   "skip_h1_title": false,
   "title_cell": "Table of Contents",
   "title_sidebar": "Contents",
   "toc_cell": false,
   "toc_position": {},
   "toc_section_display": true,
   "toc_window_display": false
  },
  "varInspector": {
   "cols": {
    "lenName": 16,
    "lenType": 16,
    "lenVar": 40
   },
   "kernels_config": {
    "python": {
     "delete_cmd_postfix": "",
     "delete_cmd_prefix": "del ",
     "library": "var_list.py",
     "varRefreshCmd": "print(var_dic_list())"
    },
    "r": {
     "delete_cmd_postfix": ") ",
     "delete_cmd_prefix": "rm(",
     "library": "var_list.r",
     "varRefreshCmd": "cat(var_dic_list()) "
    }
   },
   "types_to_exclude": [
    "module",
    "function",
    "builtin_function_or_method",
    "instance",
    "_Feature"
   ],
   "window_display": false
  }
 },
 "nbformat": 4,
 "nbformat_minor": 2
}
