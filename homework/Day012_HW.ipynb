{
 "cells": [
  {
   "cell_type": "markdown",
   "metadata": {},
   "source": [
    "# Ettoday 網路爬蟲實作練習\n",
    "\n",
    "\n",
    "* 能夠利用 Request + BeatifulSour 撰寫爬蟲，並存放到合適的資料結構\n"
   ]
  },
  {
   "cell_type": "markdown",
   "metadata": {},
   "source": [
    "## 作業目標\n",
    "\n",
    "根據範例 ，完成以下問題：\n",
    "\n",
    "* ① 取出今天所有的發文\n",
    "* ② 如果想要依照類別分類，怎麼儲存會比較好？\n",
    "* ③ 哪一個類別的文章最多\n",
    "\n",
    "\n"
   ]
  },
  {
   "cell_type": "markdown",
   "metadata": {},
   "source": [
    "### ① 取出今天所有的發文"
   ]
  },
  {
   "cell_type": "code",
   "execution_count": 11,
   "metadata": {
    "scrolled": true
   },
   "outputs": [
    {
     "name": "stdout",
     "output_type": "stream",
     "text": [
      "0 大陸 上海深夜驚傳爆炸...市民嚇：巨響持續3mins！事故查清了「無人員傷亡」\n",
      "1 生活 才剛開學…4月就有春假！各大學天數一覽「這5校爽放9天」羨慕炸\n",
      "2 體育 陳偉殷隊內賽挨轟　競爭開季名單有危機\n",
      "3 財經 ET民調／抵用券不吸睛！民眾希望政府做「這8件事」度小月　61.5%盼緩徵所得稅\n",
      "4 影劇 獨家／患子宮內膜異位不易受孕　雙胞胎依依「驗孕2條線」\n",
      "5 政治 取消全國性酒測惹議　徐國勇重申：酒測次數絕對不會減少\n",
      "6 大陸 孫楊遭禁賽8年　洋教練閃離、陸官媒拒挺：無視規則自行承擔結果\n",
      "7 影劇 庹宗康當20人面霸道喊「你們交往做X！」　黃小柔曝與老公超羞相戀過程\n",
      "8 財經 ET民調／83.5%民眾悲觀擔心：新冠肺炎若持續  「台灣經濟會大幅衰退」\n",
      "9 政治 罷韓一役事關重大！2018一人救全黨　藍議員：2020換我們一起守護高雄\n",
      "10 社會 三峽陣頭不爽開打互尻！　砸中警察頭「縫5針」血濺超商\n",
      "11 影劇 鄧超狂喜：老婆居然用靈芝給我煲湯　孫儷「秒道歉」真相笑翻網！\n",
      "12 社會 網嚇傻：八德上演搶警車？　警揭真相「追可疑騎士」…落單警借民車惹誤會\n",
      "13 政治 影／6分鐘還原陳超明硬坳「口罩套」...他還推薦陳時中買「無人消毒機」\n",
      "14 生活 超潮防疫版Any Song！帥醫師創意自編洗手舞　網尖叫：歐巴院長～\n",
      "15 大陸 湖北3縣恢復生產、交通　但「嚴禁人員離縣」持續封城！\n",
      "16 社會 快訊／基隆七堵施工意外！1工人撿磚頭「遭倒塌牆壓死」　現場血流滿地\n",
      "17 財經 ET民調／新冠肆虐！前三名最慘行業出爐   27.2%民眾收入受影響\n",
      "18 社會 追求「房東的媳婦」借她2萬要不回　醉男燒機車辯「瓶裡裝清水」\n",
      "19 健康 新冠病毒「基因序列突變」L亞型超毒？台大醫：反而不容易傳\n",
      "20 時尚 包・開箱／LV手機箱、迷你圓包爆紅！超能裝一點都不廢\n",
      "21 社會 新莊男大鬧檳榔攤半小時　警噴椒水壓制！父無奈：他剛出院\n",
      "22 體育 庫茲馬替詹姆斯「加冕」斷言洛城雙雄季後賽對決　詹皇不配MVP？AD反嗆\n",
      "23 社會 紅燈左轉遇到警察！　騎士嗆五字經「簽個XX啦簽」變現行犯\n",
      "24 影劇 女強人真的幸福嗎？柯佳嬿、賈靜雯道出「背後苦澀」　網嘆最心疼還是她\n",
      "25 房產雲 高雄30歲女買房！月入4萬「預算抓700萬」…自曝買預售屋心態：沒自備款\n",
      "26 地方 雲林三鄉鎮清明推網路追思　分散人流+在家祭祖...避群聚感染　\n",
      "27 生活 轟「不知WHO遲疑什麼」！台大學者：新冠已全球大流行⋯台灣未來防疫2重點\n",
      "28 財經 國光生技2月營收459萬元　積極加速新冠肺炎疫苗開發\n",
      "29 國際 又有亞裔受害！　48歲男紐約街頭遭「口罩男」狂捅13刀命危\n",
      "30 社會 行車畫面曝光！橋上轉彎開在「槽化線」　唱完歌直直撞分隔島釀3傷\n",
      "31 影劇 艾米莉布朗罕見大解放！紅皮衣馬甲「渾圓北半球」辣爆\n",
      "32 財經 六福客棧改建題材發酵　五月底前推「住宿買一送一」吸客\n",
      "33 政治 林志嘉談立法院防疫：若有2位委員確診隔離就關閉院區　\n",
      "34 生活 防疫3種消毒液正確用法一次看！　醫師說明打破民眾常見迷思\n",
      "35 健康 甲狀腺亢進治療藥「原料缺貨通報」　最多只能撐到9月\n",
      "36 財經 無畏疫情！鴻海瞄準三大未來產業　 祭百萬年薪啟動線上徵才\n",
      "37 生活 居家檢疫隔離民眾垃圾怎麼清？環保署：14天隔離期滿沒發病可當一般垃圾\n",
      "38 生活 蘇揆盼新冠肺炎快篩4/1上路！中研院「害怕這問題」：無法保證\n",
      "39 寵物動物 爸車禍倒床！孝順汪泛淚「零蹦跳陪睡」　媽：狗真的有靈性\n",
      "40 大陸 28歲男猝死！醫「1.5萬次胸外按壓+84瓶腎上腺素」搶救...醒後失憶一個月\n",
      "41 新奇 越南「清純奶茶妹」長大了！po比基尼辣照露美背側乳引爆動！\n",
      "42 生活 6千人搶考明道中學國中部！私校工會揭「免超額、少補習」大誘因\n",
      "43 政治 防疫旅館釀退房潮　柯文哲：原則上不要收散客\n",
      "44 房產雲 新冠肺炎疫情衝擊　飯店改推「月租客房」輕鬆住進精華地段\n",
      "45 體育 CBA／「舞王」史蒂文森重返NBA？　必須取得母隊、FIBA同意\n",
      "46 國際 不斷更新／法國禁止1000↑人集會！哥斯大黎加增至9例「紐約夫妻旅遊確診」\n",
      "47 旅遊 通通都20元！台南人私藏無名米糕老店　搭配料多四神湯超滿足\n",
      "48 體育 新冠肺炎衝擊！印地安泉網賽宣布取消　謝淑薇退聯邦盃陷兩頭空\n",
      "49 房產雲 高捷通車12年！購屋族熱愛3站揭曉　前2名都有百貨加持\n",
      "50 大陸 香港專家：70％人口有抗體疫情才紓緩「圍堵策略已不能消滅病毒」\n",
      "51 寵物動物 還沒長繁殖羽！20年首見黑面琵鷺胸前白白　鳥友憂：可能食物源不夠\n",
      "52 大陸 棄九二共識與民進黨搶票　新華社「寫給國民黨」：自欺欺人的政治幻覺\n",
      "53 政治 民眾黨佈局高雄市長補選？　柯文哲：不贊成太多政治動作\n",
      "54 影劇 不爽他沒稱新冠肺炎…陸女網紅爆粗口「你斷網嗎」！　鍾明軒對槓開戰：做人要加油\n",
      "55 政治 孫大千臉書貼4大疑點指罷韓連署「灌水」　尹立：請你閉嘴！\n",
      "56 財經 台灣收藏家平均一出手逾8500萬　瑞銀調查：千禧世代占近一半\n",
      "57 國際 已9人受血！南韓爆6新冠肺炎患者「確診前捐血」　剩餘血液急作廢\n",
      "58 時尚 H＆M傳將接手Forever 21東區店面！人力銀行職缺曝光　品牌回應了\n",
      "59 房產雲 疫情衝擊餐廳慘賠！暖房東主動免收租金1個月　老闆超感動\n",
      "60 生活 台灣參與瑞德西韋人體試驗　中研院透露「下週開始」估4月底有結果\n",
      "61 財經 疫情衝擊內需產業營收衰退上看三成　經長：裁員減薪企業不得申請紓困\n",
      "62 國際 網拍出清10年前庫存口罩！2千枚一組「價飆台幣5萬」　日本議員挨轟道歉\n",
      "63 寵物動物 橘貓「炸毛聳背」哈士奇狀況外　牠上前搖尾巴討玩...下場超悽慘\n",
      "64 生活 帶她逛百貨公司！霸氣尪「一張卡給刷爆」...神招安太座　萬人讚爆\n",
      "65 生活 現僅是新冠肺炎疫情發展初步階段⋯台大學者籲：防疫不該只作邊境管制！\n",
      "66 旅遊 老夫老妻恩愛秀起來！結婚10週年夫妻免費入園義大世界　\n",
      "67 國際 發燒咳嗽回家隔離！　瑞士不再檢測「輕症患者」減輕醫院壓力\n",
      "68 影劇 具荷拉過世4個月「哥哥為遺產告生母」！　揭兄妹童年：10歲後媽消失了\n",
      "69 財經 最有錢／美股跌不停？債劵基金避險保本又可打敗定存\n",
      "70 政治 新北罹癌女議員身分曝光　唐慧琳臉書首發聲：積極就醫中\n",
      "71 社會 曾捐鐵路警察250支電擊槍　暖心企業家再捐110套防護服助抗疫\n",
      "72 國際 讚台灣防疫「陳時中部長每天開記者會」讓人安心　女記者：反而很怕回英國\n",
      "73 財經 避險資金瘋狂湧入！歐元匯價創9個月新高　換新台幣5萬元損失2千6百元\n",
      "74 地方 台南市工業區土水品質怎知道？　環保局：看燈號就對囉！\n",
      "75 健康 北市聯醫全台首創「博奕門診」　親友出現4症狀快就醫！\n",
      "76 影劇 老虎熱唱金鍾國夯曲、母猩猩愛看猛男！《明明會說話》爆笑毛孩心聲\n",
      "77 旅遊 浮誇料鋪滿碗！桃園銅板價芋頭米粉　鬆軟綿密、必吃限量滷肉飯\n",
      "78 政治 「七分防疫，三分打柯」　柯文哲酸陳時中一不小心差點講出某醫院\n",
      "79 社會 前夫與閨蜜「壞壞」416次公然放閃…她出庭淚崩：盼女兒長大能體諒媽媽\n",
      "80 大陸 12歲童獲救第一句話：媽媽在我下面還活著！　酒店倒塌已10死22人待援\n",
      "81 電競 冠軍旅店大亂鬥強勢回歸　《爐石戰記》歡慶6週年\n",
      "82 社會 五股大爆炸賠償案　判賠千萬但桃園市府有望免負擔國賠責任\n",
      "83 大陸 最新檢測方法曝光！可區分「新冠or流感」病毒...助排除疑似病例\n",
      "84 旅遊 毛小孩新天堂！台中療癒逗狗樂園　戲水池＋大草皮隨「牠」玩\n",
      "85 影劇 勝利正式陸軍入伍！　身背7案件將「轉給軍事法庭審判」\n",
      "86 體育 2020國際奧林匹克路跑延期舉辦　改至7月12日開跑\n",
      "87 政治 江啟臣：國民黨集體領導　11人決策平台納入青年、黨團代表\n",
      "88 房產雲 房客賴著不走…傳訊唬「我剛和盧秀燕通話」！　戲劇化超展開網看傻\n",
      "89 寵物動物 幫象龜穿「親子裝」挨罵虐待　夫婦回嗆：狗和嬰兒穿就可以？\n",
      "90 政治 接國民黨台中市黨部主委？　顏寬恒：做好自己、勿多揣測\n",
      "91 社會 82人永久失能攏系假！三總神經科名醫勾黃牛詐勞保　辯：只是憐憫…仍判刑\n",
      "92 影劇 獨家／新手奶爸紀言愷「倒下」淚崩：我好像真的不行了\n",
      "93 寵物動物 約克夏睡暈狂拍叫不醒！　聽到「看辣妹」...秒趴窗盯到入迷\n",
      "94 體育 林子偉拚開季名單　紅襪教頭點名替補外野手\n",
      "95 政治 王金平祝福江啟臣：兩岸論述改造由新主席好好發揮整合\n",
      "96 政治 有重大利益衝突！罷韓團體要陳雄文下台　高市府回擊：對相關法規太生疏\n",
      "97 生活 中研院英文變「中國科學院」...立委要求改名：讓世界看見台灣的厲害\n",
      "98 寵物動物 超天才！路見種族歧視標語　神人用主子貼紙遮住「眼不見為淨」\n",
      "99 社會 蔡學良冤案　蔡媽媽：「痛到我這就好，別讓其他家痛苦」\n"
     ]
    }
   ],
   "source": [
    "import requests\n",
    "from bs4 import BeautifulSoup\n",
    "import re\n",
    "import time\n",
    "import pandas as pd\n",
    "import json\n",
    "def get_soup_from_url(url):\n",
    "    try:\n",
    "        headers = {'user-agent':'Mozilla/5.0 (Macintosh; Intel Mac OS X 10_14_0) AppleWebKit/537.36 (KHTML, like Gecko) Chrome/70.0.3538.77 Safari/537.36'}\n",
    "        res = requests.get(url, timeout = 30, headers = headers)\n",
    "        res.raise_for_status()\n",
    "        res.encoding = res.apparent_encoding\n",
    "        return BeautifulSoup(res.text,'lxml')\n",
    "    except:\n",
    "        return 'error'\n",
    "    \n",
    "url  = 'https://www.ettoday.net/news/news-list.htm'\n",
    "soup = get_soup_from_url(url)\n",
    "\n",
    "\n",
    "for index,inzip in enumerate(zip(soup.select('.tag'),soup.select('.part_list_2 a'))):\n",
    "    type_,title = inzip[0],inzip[1]\n",
    "    print(index,type_.text, title.text)\n",
    "    \n",
    "    "
   ]
  },
  {
   "cell_type": "markdown",
   "metadata": {},
   "source": [
    "### ② 如果想要依照類別分類，怎麼儲存會比較好？"
   ]
  },
  {
   "cell_type": "code",
   "execution_count": 63,
   "metadata": {
    "scrolled": true
   },
   "outputs": [
    {
     "data": {
      "text/plain": [
       "dict_keys(['大陸', '生活', '體育', '財經', '影劇', '政治', '社會', '健康', '時尚', '房產雲', '地方', '國際', '寵物動物', '新奇', '旅遊', '電競'])"
      ]
     },
     "execution_count": 63,
     "metadata": {},
     "output_type": "execute_result"
    },
    {
     "data": {
      "text/plain": [
       "['陳偉殷隊內賽挨轟\\u3000競爭開季名單有危機',\n",
       " '庫茲馬替詹姆斯「加冕」斷言洛城雙雄季後賽對決\\u3000詹皇不配MVP？AD反嗆',\n",
       " 'CBA／「舞王」史蒂文森重返NBA？\\u3000必須取得母隊、FIBA同意',\n",
       " '新冠肺炎衝擊！印地安泉網賽宣布取消\\u3000謝淑薇退聯邦盃陷兩頭空',\n",
       " '2020國際奧林匹克路跑延期舉辦\\u3000改至7月12日開跑',\n",
       " '林子偉拚開季名單\\u3000紅襪教頭點名替補外野手']"
      ]
     },
     "execution_count": 63,
     "metadata": {},
     "output_type": "execute_result"
    }
   ],
   "source": [
    "news_dict=dict()\n",
    "\n",
    "for type_,title in zip(soup.select('.tag'),soup.select('.part_list_2 a')):\n",
    "    if type_.text in news_dict:\n",
    "        news_dict[type_.text].append(title.text)\n",
    "    else:\n",
    "        news_dict[type_.text]=[title.text]\n",
    "\n",
    "news_dict.keys()\n",
    "news_dict['體育']"
   ]
  },
  {
   "cell_type": "code",
   "execution_count": 62,
   "metadata": {},
   "outputs": [
    {
     "data": {
      "text/plain": [
       "16"
      ]
     },
     "execution_count": 62,
     "metadata": {},
     "output_type": "execute_result"
    },
    {
     "name": "stdout",
     "output_type": "stream",
     "text": [
      "一共16個類別，100則新聞\n"
     ]
    }
   ],
   "source": [
    "len(news_dict)\n",
    "count = 0\n",
    "for ele in news_dict.keys():\n",
    "    count+=len(news_dict[ele])\n",
    "print(\"一共\"+str(len(news_dict))+\"個類別，\"+str(count)+\"則新聞\")"
   ]
  },
  {
   "cell_type": "markdown",
   "metadata": {},
   "source": [
    "### ③ 哪一個類別的文章最多"
   ]
  },
  {
   "cell_type": "code",
   "execution_count": 93,
   "metadata": {
    "scrolled": true
   },
   "outputs": [
    {
     "data": {
      "text/html": [
       "<div>\n",
       "<style scoped>\n",
       "    .dataframe tbody tr th:only-of-type {\n",
       "        vertical-align: middle;\n",
       "    }\n",
       "\n",
       "    .dataframe tbody tr th {\n",
       "        vertical-align: top;\n",
       "    }\n",
       "\n",
       "    .dataframe thead th {\n",
       "        text-align: right;\n",
       "    }\n",
       "</style>\n",
       "<table border=\"1\" class=\"dataframe\">\n",
       "  <thead>\n",
       "    <tr style=\"text-align: right;\">\n",
       "      <th></th>\n",
       "      <th>類別</th>\n",
       "      <th>新聞標題</th>\n",
       "    </tr>\n",
       "  </thead>\n",
       "  <tbody>\n",
       "    <tr>\n",
       "      <th>0</th>\n",
       "      <td>大陸</td>\n",
       "      <td>上海深夜驚傳爆炸...市民嚇：巨響持續3mins！事故查清了「無人員傷亡」</td>\n",
       "    </tr>\n",
       "    <tr>\n",
       "      <th>1</th>\n",
       "      <td>生活</td>\n",
       "      <td>才剛開學…4月就有春假！各大學天數一覽「這5校爽放9天」羨慕炸</td>\n",
       "    </tr>\n",
       "    <tr>\n",
       "      <th>2</th>\n",
       "      <td>體育</td>\n",
       "      <td>陳偉殷隊內賽挨轟　競爭開季名單有危機</td>\n",
       "    </tr>\n",
       "    <tr>\n",
       "      <th>3</th>\n",
       "      <td>財經</td>\n",
       "      <td>ET民調／抵用券不吸睛！民眾希望政府做「這8件事」度小月　61.5%盼緩徵所得稅</td>\n",
       "    </tr>\n",
       "    <tr>\n",
       "      <th>4</th>\n",
       "      <td>影劇</td>\n",
       "      <td>獨家／患子宮內膜異位不易受孕　雙胞胎依依「驗孕2條線」</td>\n",
       "    </tr>\n",
       "    <tr>\n",
       "      <th>...</th>\n",
       "      <td>...</td>\n",
       "      <td>...</td>\n",
       "    </tr>\n",
       "    <tr>\n",
       "      <th>95</th>\n",
       "      <td>政治</td>\n",
       "      <td>王金平祝福江啟臣：兩岸論述改造由新主席好好發揮整合</td>\n",
       "    </tr>\n",
       "    <tr>\n",
       "      <th>96</th>\n",
       "      <td>政治</td>\n",
       "      <td>有重大利益衝突！罷韓團體要陳雄文下台　高市府回擊：對相關法規太生疏</td>\n",
       "    </tr>\n",
       "    <tr>\n",
       "      <th>97</th>\n",
       "      <td>生活</td>\n",
       "      <td>中研院英文變「中國科學院」...立委要求改名：讓世界看見台灣的厲害</td>\n",
       "    </tr>\n",
       "    <tr>\n",
       "      <th>98</th>\n",
       "      <td>寵物動物</td>\n",
       "      <td>超天才！路見種族歧視標語　神人用主子貼紙遮住「眼不見為淨」</td>\n",
       "    </tr>\n",
       "    <tr>\n",
       "      <th>99</th>\n",
       "      <td>社會</td>\n",
       "      <td>蔡學良冤案　蔡媽媽：「痛到我這就好，別讓其他家痛苦」</td>\n",
       "    </tr>\n",
       "  </tbody>\n",
       "</table>\n",
       "<p>100 rows × 2 columns</p>\n",
       "</div>"
      ],
      "text/plain": [
       "      類別                                      新聞標題\n",
       "0     大陸     上海深夜驚傳爆炸...市民嚇：巨響持續3mins！事故查清了「無人員傷亡」\n",
       "1     生活           才剛開學…4月就有春假！各大學天數一覽「這5校爽放9天」羨慕炸\n",
       "2     體育                        陳偉殷隊內賽挨轟　競爭開季名單有危機\n",
       "3     財經  ET民調／抵用券不吸睛！民眾希望政府做「這8件事」度小月　61.5%盼緩徵所得稅\n",
       "4     影劇               獨家／患子宮內膜異位不易受孕　雙胞胎依依「驗孕2條線」\n",
       "..   ...                                       ...\n",
       "95    政治                 王金平祝福江啟臣：兩岸論述改造由新主席好好發揮整合\n",
       "96    政治         有重大利益衝突！罷韓團體要陳雄文下台　高市府回擊：對相關法規太生疏\n",
       "97    生活         中研院英文變「中國科學院」...立委要求改名：讓世界看見台灣的厲害\n",
       "98  寵物動物             超天才！路見種族歧視標語　神人用主子貼紙遮住「眼不見為淨」\n",
       "99    社會                蔡學良冤案　蔡媽媽：「痛到我這就好，別讓其他家痛苦」\n",
       "\n",
       "[100 rows x 2 columns]"
      ]
     },
     "execution_count": 93,
     "metadata": {},
     "output_type": "execute_result"
    }
   ],
   "source": [
    "# for type_,title in zip(soup.select('.tag'),soup.select('.part_list_2 a')):\n",
    "type_list = [x.text for x in soup.select('.tag')]\n",
    "title_list =[x.text for x in soup.select('.part_list_2 a')]\n",
    "news_df = pd.DataFrame({\"類別\":type_list,\"新聞標題\":title_list})\n",
    "news_df"
   ]
  },
  {
   "cell_type": "code",
   "execution_count": 104,
   "metadata": {},
   "outputs": [
    {
     "data": {
      "text/plain": [
       "新聞標題    13\n",
       "Name: 政治, dtype: int64"
      ]
     },
     "execution_count": 104,
     "metadata": {},
     "output_type": "execute_result"
    }
   ],
   "source": [
    "result = news_df.groupby('類別').count().sort_values('新聞標題',ascending=False)\n",
    "result.iloc[0,:]"
   ]
  }
 ],
 "metadata": {
  "kernelspec": {
   "display_name": "Python 3",
   "language": "python",
   "name": "python3"
  },
  "language_info": {
   "codemirror_mode": {
    "name": "ipython",
    "version": 3
   },
   "file_extension": ".py",
   "mimetype": "text/x-python",
   "name": "python",
   "nbconvert_exporter": "python",
   "pygments_lexer": "ipython3",
   "version": "3.7.4"
  },
  "nbTranslate": {
   "displayLangs": [
    "*"
   ],
   "hotkey": "alt-t",
   "langInMainMenu": true,
   "sourceLang": "en",
   "targetLang": "fr",
   "useGoogleTranslate": true
  },
  "toc": {
   "base_numbering": 1,
   "nav_menu": {},
   "number_sections": true,
   "sideBar": true,
   "skip_h1_title": false,
   "title_cell": "Table of Contents",
   "title_sidebar": "Contents",
   "toc_cell": false,
   "toc_position": {},
   "toc_section_display": true,
   "toc_window_display": false
  },
  "varInspector": {
   "cols": {
    "lenName": 16,
    "lenType": 16,
    "lenVar": 40
   },
   "kernels_config": {
    "python": {
     "delete_cmd_postfix": "",
     "delete_cmd_prefix": "del ",
     "library": "var_list.py",
     "varRefreshCmd": "print(var_dic_list())"
    },
    "r": {
     "delete_cmd_postfix": ") ",
     "delete_cmd_prefix": "rm(",
     "library": "var_list.r",
     "varRefreshCmd": "cat(var_dic_list()) "
    }
   },
   "types_to_exclude": [
    "module",
    "function",
    "builtin_function_or_method",
    "instance",
    "_Feature"
   ],
   "window_display": false
  }
 },
 "nbformat": 4,
 "nbformat_minor": 2
}
