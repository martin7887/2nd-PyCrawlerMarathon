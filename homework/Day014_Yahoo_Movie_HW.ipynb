{
 "cells": [
  {
   "cell_type": "markdown",
   "metadata": {},
   "source": [
    "# YAHOO電影爬蟲練習\n",
    "## 練習爬取電影放映資訊。必須逐步獲取電影的代號、放映地區、放映日期後，再送出查詢給伺服器。"
   ]
  },
  {
   "cell_type": "code",
   "execution_count": 51,
   "metadata": {},
   "outputs": [],
   "source": [
    "import requests\n",
    "import re\n",
    "from bs4 import BeautifulSoup"
   ]
  },
  {
   "cell_type": "markdown",
   "metadata": {},
   "source": [
    "### 先搜尋全部的電影代號(ID)資訊"
   ]
  },
  {
   "cell_type": "code",
   "execution_count": 52,
   "metadata": {},
   "outputs": [
    {
     "name": "stdout",
     "output_type": "stream",
     "text": [
      "Movie: 導演先生的完美假期, ID: 10545\n",
      "Movie: 大地蜜語, ID: 10513\n",
      "Movie: 狂飆一夢, ID: 10506\n",
      "Movie: 親愛的莎瑪, ID: 10491\n",
      "Movie: 大畫特務, ID: 10478\n",
      "Movie: 戰慄糖果屋, ID: 10472\n",
      "Movie: 失戀殺人：三角禁戀, ID: 10465\n",
      "Movie: 明明會說話, ID: 10440\n",
      "Movie: 艾瑪, ID: 10396\n",
      "Movie: 罪樂園, ID: 10349\n",
      "Movie: 寄生上流：黑白版, ID: 10527\n",
      "Movie: 千日千夜, ID: 10490\n",
      "Movie: 咒怨2 電影版, ID: 10464\n",
      "Movie: 鳴鳥不飛：烏雲密布, ID: 10458\n",
      "Movie: 哥布林殺手 劇場版, ID: 10438\n",
      "Movie: 女鬼橋, ID: 10437\n",
      "Movie: 怨咒, ID: 10421\n",
      "Movie: 娘娘腔日記, ID: 10401\n",
      "Movie: 汪星人的奇幻漂流, ID: 10388\n",
      "Movie: 極地守護犬, ID: 10383\n",
      "Movie: 叔．叔, ID: 10371\n",
      "Movie: 隱形人, ID: 10359\n",
      "Movie: 失路人, ID: 10498\n",
      "Movie: 電影音效傳奇：好萊塢之聲, ID: 10484\n",
      "Movie: 悲慘世界, ID: 10479\n",
      "Movie: 吹哨奇案, ID: 10475\n",
      "Movie: 閃閃小超人電影版, ID: 10474\n",
      "Movie: 少年阿罕默德, ID: 10468\n",
      "Movie: 咒怨 電影版, ID: 10463\n",
      "Movie: 陰櫥, ID: 10457\n",
      "Movie: 絕命大平台, ID: 10447\n",
      "Movie: 李察朱威爾事件, ID: 10368\n",
      "Movie: 音速小子, ID: 9246\n",
      "Movie: 你好．愛．再見, ID: 10501\n",
      "Movie: 逃出夢幻島, ID: 10485\n",
      "Movie: 雨天．紐約, ID: 10476\n",
      "Movie: 失控少年兵團, ID: 10456\n",
      "Movie: 超＂人＂氣動物園, ID: 10445\n",
      "Movie: 就愛斷捨離, ID: 10436\n",
      "Movie: 蜜蜂與遠雷, ID: 10419\n",
      "Movie: 電影版 輝夜姬想讓人告白～天才們的戀愛頭腦戰～, ID: 10405\n",
      "Movie: 古曼童, ID: 10399\n",
      "Movie: 猛禽小隊：小丑女大解放, ID: 10268\n",
      "Movie: 紅鞋公主與七矮人, ID: 10417\n",
      "Movie: 1917, ID: 10189\n",
      "Movie: 你的情歌, ID: 10407\n",
      "Movie: 紳士追殺令, ID: 10317\n",
      "Movie: 杜立德, ID: 10316\n",
      "Movie: 她們, ID: 10202\n",
      "Movie: 變身特務, ID: 9008\n",
      "Movie: 巧虎電影：英雄遊樂園, ID: 10429\n",
      "Movie: 青春催落去, ID: 10404\n",
      "Movie: 絕地戰警FOR LIFE, ID: 10242\n",
      "Movie: 星星知我心, ID: 10409\n",
      "Movie: 逃出天堂島, ID: 10384\n",
      "Movie: 魯邦三世 The First, ID: 10355\n",
      "Movie: 別告訴她, ID: 10382\n",
      "Movie: 真愛裁會贏, ID: 10362\n",
      "Movie: 潛艦追緝, ID: 10333\n",
      "Movie: 霹靂嬌娃, ID: 10124\n",
      "Movie: CATS貓, ID: 10166\n",
      "Movie: STAR WARS : 天行者的崛起, ID: 10225\n",
      "Movie: 復仇母親, ID: 10392\n",
      "Movie: 8級警戒, ID: 10323\n",
      "Movie: 黑色聖誕節, ID: 10291\n",
      "Movie: 去年聖誕節, ID: 10256\n",
      "Movie: 野蠻遊戲：全面晉級, ID: 10134\n",
      "Movie: 寂寞診療室, ID: 10282\n",
      "Movie: 賽道狂人, ID: 10097\n",
      "Movie: 冰雪奇緣2, ID: 9597\n",
      "Movie: 萬萬沒想到, ID: 10281\n",
      "Movie: 救火奶爸, ID: 10164\n",
      "Movie: 決戰中途島, ID: 10130\n",
      "Movie: 魔鬼終結者：黑暗宿命, ID: 10067\n",
      "Movie: 絕鯊47：猛鯊出籠, ID: 10214\n",
      "Movie: 貓咪知道但是貓咪不說, ID: 10203\n",
      "Movie: 天氣之子, ID: 10091\n",
      "Movie: 寄生上流, ID: 10020\n",
      "Movie: 一首搖滾上月球, ID: 4887\n",
      "Movie: 錢不夠用2, ID: 3026\n"
     ]
    }
   ],
   "source": [
    "# 查看目前上映那些電影，並擷取出其ID資訊\n",
    "url = 'https://movies.yahoo.com.tw/'\n",
    "resp = requests.get(url)\n",
    "resp.encoding = 'utf-8'\n",
    "\n",
    "soup = BeautifulSoup(resp.text, 'lxml')\n",
    "html = soup.find(\"select\", attrs={'name':'movie_id'})\n",
    "movie_item = html.find_all(\"option\", attrs={'data-name':re.compile('.*')})\n",
    "\n",
    "for p in movie_item:\n",
    "    print(\"Movie: %s, ID: %s\" % (p[\"data-name\"], p[\"value\"]))"
   ]
  },
  {
   "cell_type": "markdown",
   "metadata": {},
   "source": [
    "### 指定你有興趣的電影其ID，然後查詢其放映地區資訊。"
   ]
  },
  {
   "cell_type": "code",
   "execution_count": 53,
   "metadata": {},
   "outputs": [],
   "source": [
    "# 參考前一個步驟中擷取到的ID資訊，並指定ID\n",
    "movie_id = 10169"
   ]
  },
  {
   "cell_type": "code",
   "execution_count": 132,
   "metadata": {},
   "outputs": [
    {
     "name": "stdout",
     "output_type": "stream",
     "text": [
      "放映地區: 台北市, 代號(area_id): 28\n",
      "放映地區: 桃園, 代號(area_id): 16\n",
      "放映地區: 台中, 代號(area_id): 2\n",
      "放映地區: 台南, 代號(area_id): 10\n",
      "放映地區: 高雄, 代號(area_id): 17\n"
     ]
    }
   ],
   "source": [
    "url = 'https://movies.yahoo.com.tw/api/v1/areas_by_movie_theater'\n",
    "payload = {'movie_id':str(movie_id)}\n",
    "\n",
    "# 模擬一個header\n",
    "headers = {\n",
    "    'authority': 'movies.yahoo.com.tw',\n",
    "    'method': 'GET',\n",
    "    'path': '/api/v1/areas_by_movie_theater?movie_id=' + str(movie_id),\n",
    "    'scheme': 'https',\n",
    "    'accept': 'application/json, text/javascript, */*; q=0.01',\n",
    "    'accept-encoding': 'gzip, deflate, br',\n",
    "    'accept-language': 'zh-TW,zh;q=0.9,en-US;q=0.8,en;q=0.7,zh-CN;q=0.6',\n",
    "    'cookie': 'rxx=9s3x2fws06.1g16irnc&v=1; _ga=GA1.3.2056742944.1551651301; GUC=AQEBAQFczFpdm0IfmwSB&s=AQAAACoo4N5D&g=XMsVBw; BX=4hkdk1decm57t&b=3&s=mr; _ga=GA1.4.2056742944.1551651301; nexagesuid=82843256dd234e8e91aa73f2062f8218; browsed_movie=eyJpdiI6IlJXWWtiSWJaZlNGK2MxQnhscnVUYWc9PSIsInZhbHVlIjoiMXRhMmVHRXRIeUNjc1RBWDJzdGYwbnlIQURmWGsrcjJSMzhkbkcraDNJVUNIZEZsbzU3amlFcVZ1NzlmazJrTGpoMjVrbHk1YmpoRENXaHZTOUw1TmI2ZTZVWHdOejZQZm16RmVuMWlHTTJLaTZLVFZZVkFOMDlTd1wvSGltcytJIiwibWFjIjoiZWQ2ZjA4MmVjZmZlYjlmNjJmYmY2NGMyMDI0Njc0NWViYjVkOWE2NDg0N2RhODMxZjBjZDhiMmJhZTc2MDZhYiJ9; avi=eyJpdiI6Im1NeWFJRlVRWDR1endEcGRGUGJUbVE9PSIsInZhbHVlIjoickRpU3JuUytmcGl6cjF5OW0rNU9iZz09IiwibWFjIjoiY2VmY2NkNzZmM2NhNjY5YzlkOTcyNjE5OGEyMzU0NWYxOTdmMDRkMDY3OWNmMmZjOTMxYjc5MjI5N2Q5NGE5MiJ9; cmp=t=1559391030&j=0; _gid=GA1.4.779543841.1559391031; XSRF-TOKEN=eyJpdiI6IkhpS2hGcDRQaHlmWUJmaHdSS2Q2bHc9PSIsInZhbHVlIjoiOUVoNFk4OHI1UUZmUWRtYXhza0MyWjJSTlhlZ3RnT0VGeVJPN2JuczVRMGRFdWt2OUlsamVKeHRobFwvcHBGM0dhU3VyMXNGTHlsb2dVM2l0U1hpUGxBPT0iLCJtYWMiOiJkZWU4YzJhNjAxMTY3MzE4Y2ExNWIxYmE1ZjE1YWZlZTlhOTcyYjc4M2RlZGY4ZWNjZDYyMTA2NGYwZGViMzc2In0%3D; m_s=eyJpdiI6InpsZHZ2Tk1BZ0dxaHhETml1RjBnUXc9PSIsInZhbHVlIjoiSkNGeHUranRoXC85bDFiaDhySTJqNkJRcWdjWUxjeVRJSHVYZ1wvd2d4bWJZUTUrSHVDM0lUcW5KNHdETFZ4T1lieU81OUhzc1VoUXhZcWk0UDZSQXVFdz09IiwibWFjIjoiYmJkMDJkMDhlODIzMzcyMWY4M2NmYWNjNGVlOWRjMDIwZmVmNzAyMjE3Yzg3ZGY3ODBkZWEzZTI4MTI5ZWNmOSJ9; _gat=1; nexagesd=10',\n",
    "    'dnt': '1',\n",
    "    'mv-authorization': '21835b082e15b91a69b3851eec7b31b82ce82afb',\n",
    "    'referer': 'https://movies.yahoo.com.tw/',\n",
    "    'user-agent': 'Mozilla/5.0 (Windows NT 10.0; Win64; x64) AppleWebKit/537.36 (KHTML, like Gecko) Chrome/74.0.3729.169 Safari/537.36',\n",
    "    'x-requested-with': 'XMLHttpRequest',\n",
    "}\n",
    "    \n",
    "resp = requests.get(url, params=payload, headers=headers)\n",
    "#print(resp.json())  # 若有需要，列印出json原始碼\n",
    "\n",
    "# 這裡回傳的格式是JSON格式的資料，要解析JSON擷取資料\n",
    "for p in resp.json():\n",
    "    print('放映地區: {0}, 代號(area_id): {1}'.format(p['title'], p['area_id']))"
   ]
  },
  {
   "cell_type": "markdown",
   "metadata": {},
   "source": [
    "### 指定你想要觀看的放映地區，查詢有上映電影的場次日期"
   ]
  },
  {
   "cell_type": "code",
   "execution_count": 55,
   "metadata": {},
   "outputs": [],
   "source": [
    "# 指定放映地區\n",
    "area_id = 28"
   ]
  },
  {
   "cell_type": "code",
   "execution_count": 56,
   "metadata": {},
   "outputs": [
    {
     "name": "stdout",
     "output_type": "stream",
     "text": [
      "三月 9\n",
      "三月 10\n",
      "三月 11\n",
      "三月 12\n",
      "三月 13\n"
     ]
    }
   ],
   "source": [
    "# 向網站發送請求\n",
    "url = 'https://movies.yahoo.com.tw/movietime_result.html'\n",
    "payload = {'movie_id':str(movie_id), 'area_id':str(area_id)}\n",
    "resp = requests.get(url, params=payload)\n",
    "resp.encoding = 'utf-8'\n",
    "\n",
    "soup = BeautifulSoup(resp.text, 'lxml')\n",
    "movie_date = soup.find_all(\"label\", attrs={'for':re.compile(\"date_[\\d]\")})\n",
    "\n",
    "# 列印播放日期\n",
    "for date in movie_date:\n",
    "    print(\"%s %s\" % (date.p.string, date.h3.string))"
   ]
  },
  {
   "cell_type": "markdown",
   "metadata": {},
   "source": [
    "### 最後指定觀看的日期，查詢並列印出放映的電影院、放映類型(數位、3D、IMAX 3D...)、放映時間等資訊。"
   ]
  },
  {
   "cell_type": "code",
   "execution_count": 57,
   "metadata": {},
   "outputs": [],
   "source": [
    "# 選定要觀看的日期\n",
    "date = \"2020-03-09\""
   ]
  },
  {
   "cell_type": "code",
   "execution_count": 86,
   "metadata": {},
   "outputs": [
    {
     "data": {
      "text/plain": [
       "<Response [200]>"
      ]
     },
     "execution_count": 86,
     "metadata": {},
     "output_type": "execute_result"
    }
   ],
   "source": [
    "# 向網站發送請求，獲取上映的電影院及時間資訊\n",
    "area_id = 28\n",
    "movie_id = 10545\n",
    "date = \"2020-03-09\"\n",
    "url = f'https://movies.yahoo.com.tw/ajax/pc/get_schedule_by_movie?movie_id={movie_id}&date={date}&area_id={area_id}'\n",
    "# url = \"https://movies.yahoo.com.tw/ajax/pc/get_schedule_by_movie\"\n",
    "payload = {'movie_id':str(movie_id),\n",
    "           'date':date,\n",
    "           'area_id':str(area_id),\n",
    "           'theater_id':'',\n",
    "           'datetime':'',\n",
    "           'movie_type_id':''}\n",
    "\n",
    "resp = requests.get(url, params=payload)\n",
    "resp\n"
   ]
  },
  {
   "cell_type": "code",
   "execution_count": 91,
   "metadata": {},
   "outputs": [
    {
     "data": {
      "text/plain": [
       "<html><body><div class=\"pc-movie-schedule-form\">\n",
       "<div class=\"area_timebox\">\n",
       "<div class=\"area_title\">台北市</div>\n",
       "<ul class=\"area_time _c jq_area_time\" data-theater_name=\"國賓影城(台北長春廣場)\" data-theater_schedules=\"https://movies.yahoo.com.tw/theater_result.html/id=29\" data-theater_url=\"http://www.ambassador.com.tw/\" id=\"theater_id_29\">\n",
       "<li class=\"adds\">\n",
       "<a href=\"https://movies.yahoo.com.tw/theater_result.html/id=29\">國賓影城(台北長春廣場)</a>\n",
       "<span>02-25155755</span>\n",
       "</li>\n",
       "<li class=\"taps\">\n",
       "<span class=\"tapR\">數位</span> </li>\n",
       "<li class=\"time _c\">\n",
       "<div class=\"input_picker jq_input_picker\">\n",
       "<input class=\"gabtn\" data-ga=\"['電影頁_時刻表', '電影頁_時刻表_場次', '導演先生的完美假期']\" data-movie_date=\"03.09\" data-movie_time=\"14:00\" data-movie_title=\"導演先生的完美假期\" data-movie_type=\"數位\" data-news=\"news\" id=\"73311680\" name=\"schedule_list\" type=\"radio\" value=\"2020-03-09 14:00:00\"/>\n",
       "<label class=\"\" for=\"73311680\">14:00</label>\n",
       "<input class=\"gabtn\" data-ga=\"['電影頁_時刻表', '電影頁_時刻表_場次', '導演先生的完美假期']\" data-movie_date=\"03.09\" data-movie_time=\"18:20\" data-movie_title=\"導演先生的完美假期\" data-movie_type=\"數位\" data-news=\"news\" id=\"73311681\" name=\"schedule_list\" type=\"radio\" value=\"2020-03-09 18:20:00\"/>\n",
       "<label class=\"\" for=\"73311681\">18:20</label>\n",
       "<input class=\"gabtn\" data-ga=\"['電影頁_時刻表', '電影頁_時刻表_場次', '導演先生的完美假期']\" data-movie_date=\"03.09\" data-movie_time=\"20:15\" data-movie_title=\"導演先生的完美假期\" data-movie_type=\"數位\" data-news=\"news\" id=\"73311682\" name=\"schedule_list\" type=\"radio\" value=\"2020-03-09 20:15:00\"/>\n",
       "<label class=\"\" for=\"73311682\">20:15</label>\n",
       "</div>\n",
       "</li>\n",
       "</ul>\n",
       "<ul class=\"area_time _c jq_area_time\" data-theater_name=\"光點華山電影館\" data-theater_schedules=\"https://movies.yahoo.com.tw/theater_result.html/id=152\" data-theater_url=\"http://www.spot-hs.org.tw/\" id=\"theater_id_152\">\n",
       "<li class=\"adds\">\n",
       "<a href=\"https://movies.yahoo.com.tw/theater_result.html/id=152\">光點華山電影館</a>\n",
       "<span>02-23940622</span>\n",
       "</li>\n",
       "<li class=\"taps\">\n",
       "<span class=\"tapR\">數位</span> </li>\n",
       "<li class=\"time _c\">\n",
       "<div class=\"input_picker jq_input_picker\">\n",
       "<input class=\"gabtn\" data-ga=\"['電影頁_時刻表', '電影頁_時刻表_場次', '導演先生的完美假期']\" data-movie_date=\"03.09\" data-movie_time=\"14:25\" data-movie_title=\"導演先生的完美假期\" data-movie_type=\"數位\" data-news=\"news\" id=\"73313349\" name=\"schedule_list\" type=\"radio\" value=\"2020-03-09 14:25:00\"/>\n",
       "<label class=\"\" for=\"73313349\">14:25</label>\n",
       "<input class=\"gabtn\" data-ga=\"['電影頁_時刻表', '電影頁_時刻表_場次', '導演先生的完美假期']\" data-movie_date=\"03.09\" data-movie_time=\"21:20\" data-movie_title=\"導演先生的完美假期\" data-movie_type=\"數位\" data-news=\"news\" id=\"73313350\" name=\"schedule_list\" type=\"radio\" value=\"2020-03-09 21:20:00\"/>\n",
       "<label class=\"\" for=\"73313350\">21:20</label>\n",
       "</div>\n",
       "</li>\n",
       "</ul>\n",
       "<ul class=\"area_time _c jq_area_time\" data-theater_name=\"誠品電影院\" data-theater_schedules=\"https://movies.yahoo.com.tw/theater_result.html/id=168\" data-theater_url=\"https://meet.eslite.com/tw/tc/gallery/201803020001\" id=\"theater_id_168\">\n",
       "<li class=\"adds\">\n",
       "<a href=\"https://movies.yahoo.com.tw/theater_result.html/id=168\">誠品電影院</a>\n",
       "<span>02-66365888</span>\n",
       "</li>\n",
       "<li class=\"taps\">\n",
       "<span class=\"tapR\">數位</span> </li>\n",
       "<li class=\"time _c\">\n",
       "<div class=\"input_picker jq_input_picker\">\n",
       "<input class=\"gabtn\" data-ga=\"['電影頁_時刻表', '電影頁_時刻表_場次', '導演先生的完美假期']\" data-movie_date=\"03.09\" data-movie_time=\"11:30\" data-movie_title=\"導演先生的完美假期\" data-movie_type=\"數位\" data-news=\"news\" id=\"73313498\" name=\"schedule_list\" type=\"radio\" value=\"2020-03-09 11:30:00\"/>\n",
       "<label class=\"\" for=\"73313498\">11:30</label>\n",
       "<input class=\"gabtn\" data-ga=\"['電影頁_時刻表', '電影頁_時刻表_場次', '導演先生的完美假期']\" data-movie_date=\"03.09\" data-movie_time=\"17:25\" data-movie_title=\"導演先生的完美假期\" data-movie_type=\"數位\" data-news=\"news\" id=\"73313499\" name=\"schedule_list\" type=\"radio\" value=\"2020-03-09 17:25:00\"/>\n",
       "<label class=\"\" for=\"73313499\">17:25</label>\n",
       "</div>\n",
       "</li>\n",
       "</ul>\n",
       "<ul class=\"area_time _c jq_area_time\" data-theater_name=\"喜樂時代影城南港店\" data-theater_schedules=\"https://movies.yahoo.com.tw/theater_result.html/id=186\" data-theater_url=\"http://www.centuryasia.com.tw/default.aspx\" id=\"theater_id_186\">\n",
       "<li class=\"adds\">\n",
       "<a href=\"https://movies.yahoo.com.tw/theater_result.html/id=186\">喜樂時代影城南港店</a>\n",
       "<span>02-27888185</span>\n",
       "</li>\n",
       "<li class=\"taps\">\n",
       "<span class=\"tapR\">數位</span> <span class=\"tapB\">法語</span> </li>\n",
       "<li class=\"time _c\">\n",
       "<div class=\"input_picker jq_input_picker\">\n",
       "<input class=\"gabtn\" data-cinema=\"40288eb0050f542401050f5681782dc5\" data-date=\"1583683200\" data-ezding=\"ezding\" data-ga=\"['電影頁_時刻表', '電影頁_時刻表_場次', '導演先生的完美假期']\" data-movie=\"eb57f93d7374483b967889b0395c7e1a\" data-movie_date=\"03.09\" data-movie_time=\"20:55\" data-movie_title=\"導演先生的完美假期\" data-movie_type=\"數位\" data-session=\"4bd59be79a4048b1aae14bc710539c66\" data-time=\"1583758500\" id=\"73297611\" name=\"schedule_list\" type=\"radio\" value=\"2020-03-09 20:55:00\"/>\n",
       "<label class=\"\" for=\"73297611\">20:55</label>\n",
       "</div>\n",
       "</li>\n",
       "</ul>\n",
       "</div>\n",
       "<div class=\"booking_modal jq_booking_modal\">\n",
       "<div class=\"booking_modal_backdrop\"></div>\n",
       "<!-- 時報訂票 ＆ 有官網訂票 新增 class => no_seats -->\n",
       "<div class=\"booking_modal_content jq_booking_modal_content\">\n",
       "<form action=\"https://movies.yahoo.com.tw/ticket/ezding_ticket\" id=\"form_schedule\" method=\"get\" target=\"_blank\">\n",
       "<div class=\"ezding_ticket_value\">\n",
       "<input name=\"movie_id\" type=\"hidden\" value=\"\"/>\n",
       "<input name=\"cinema_id\" type=\"hidden\" value=\"\"/>\n",
       "<input name=\"session_id\" type=\"hidden\" value=\"\"/>\n",
       "<input name=\"date\" type=\"hidden\" value=\"\"/>\n",
       "<input name=\"time\" type=\"hidden\" value=\"\"/>\n",
       "<input name=\"campaign_code\" type=\"hidden\" value=\"yahoopc\"/>\n",
       "</div>\n",
       "<ul class=\"top_infos\">\n",
       "<li>\n",
       "<p>片名</p>\n",
       "<h3 id=\"top_infos_movie\"></h3>\n",
       "</li>\n",
       "<li>\n",
       "<p>影城</p>\n",
       "<h3 id=\"top_infos_theater\"></h3>\n",
       "</li>\n",
       "<li>\n",
       "<p>日期</p>\n",
       "<h3 id=\"top_infos_date\"></h3>\n",
       "</li>\n",
       "<li>\n",
       "<p>版本</p>\n",
       "<h3 id=\"top_infos_movie_type\"></h3>\n",
       "</li>\n",
       "<li>\n",
       "<p>時間</p>\n",
       "<h3 id=\"top_infos_time\"></h3>\n",
       "</li>\n",
       "</ul>\n",
       "<div class=\"booking_seats\">\n",
       "<a class=\"theater_schedules gabtn\" data-ga=\"['電影頁_時刻表', '電影頁_時刻表_一般戲院_全部電影場次', '']\" href=\"#\">全部電影場次</a>\n",
       "<a class=\"theater_url gabtn\" data-ga=\"['電影頁_時刻表', '電影頁_時刻表_一般戲院_官網訂票', '']\" href=\"#\" target=\"_blank\">官網訂票</a>\n",
       "<p class=\"no_theater_url\" id=\"no_theater_url\">無提供官網訂票</p>\n",
       "<p class=\"booking_number\" id=\"booking_number\">人數</p>\n",
       "<div class=\"booking_seat_group jq_booking_seat_group\">\n",
       "<input id=\"seat_1\" name=\"tickets\" type=\"radio\" value=\"1\"/>\n",
       "<label for=\"seat_1\">1</label>\n",
       "<input checked=\"\" id=\"seat_2\" name=\"tickets\" type=\"radio\" value=\"2\"/>\n",
       "<label for=\"seat_2\">2</label>\n",
       "<input id=\"seat_3\" name=\"tickets\" type=\"radio\" value=\"3\"/>\n",
       "<label for=\"seat_3\">3</label>\n",
       "<input id=\"seat_4\" name=\"tickets\" type=\"radio\" value=\"4\"/>\n",
       "<label for=\"seat_4\">4</label>\n",
       "<input id=\"seat_5\" name=\"tickets\" type=\"radio\" value=\"5\"/>\n",
       "<label for=\"seat_5\">5</label>\n",
       "<input id=\"seat_6\" name=\"tickets\" type=\"radio\" value=\"6\"/>\n",
       "<label for=\"seat_6\">6</label>\n",
       "</div>\n",
       "<button class=\"action_btn action_booking_btn jq_booking_btn gabtn\" data-ga=\"['電影頁_時刻表', '電影頁_時刻表_一般戲院_選位', '']\" type=\"submit\">選位</button>\n",
       "<a class=\"action_btn action_link jq_booking_link gabtn\" data-ga=\"['電影頁_時刻表', '電影頁_時刻表_時報戲院_官網選位', '']\" href=\"#\" target=\"_blank\">官網訂票</a>\n",
       "<button class=\"action_btn close jq_close_booking_btn\" type=\"button\">關閉</button>\n",
       "</div>\n",
       "</form>\n",
       "<!-- 無官網訂票區塊 -->\n",
       "<div class=\"no_theater_section\">\n",
       "<p>無提供官網訂票</p>\n",
       "<button class=\"action_btn close jq_close_booking_btn\" type=\"button\">關閉</button>\n",
       "</div>\n",
       "</div>\n",
       "</div></div></body></html>"
      ]
     },
     "execution_count": 91,
     "metadata": {},
     "output_type": "execute_result"
    }
   ],
   "source": [
    "# print(resp.json()['view'])\n",
    "soup = BeautifulSoup(resp.json()['view'])\n",
    "soup"
   ]
  },
  {
   "cell_type": "code",
   "execution_count": 149,
   "metadata": {},
   "outputs": [
    {
     "name": "stdout",
     "output_type": "stream",
     "text": [
      "戲院名稱： 國賓影城(台北長春廣場)\n",
      "電影類別： 數位\n",
      "放映時間： 14:00 18:20 20:15\n",
      "\n",
      "戲院名稱： 光點華山電影館\n",
      "電影類別： 數位\n",
      "放映時間： 14:25 21:20\n",
      "\n",
      "戲院名稱： 誠品電影院\n",
      "電影類別： 數位\n",
      "放映時間： 11:30 17:25\n",
      "\n",
      "戲院名稱： 喜樂時代影城南港店\n",
      "電影類別： 數位\n",
      "放映時間： 20:55\n",
      "\n"
     ]
    }
   ],
   "source": [
    "# soup.select('.pc-movie-schedule-form')[0]\n",
    "for ele in soup.select('.pc-movie-schedule-form')[0].find_all(\"ul\",'area_time'):\n",
    "    theaterName = (ele['data-theater_name'])\n",
    "    theaterType = (ele.find('span',\"tapR\").text)\n",
    "    movie_time=[ele_[\"data-movie_time\"] for ele_ in ele.find_all(\"input\", \"gabtn\")]\n",
    "    print(\"戲院名稱：\",theaterName)\n",
    "    print(\"電影類別：\",theaterType)\n",
    "    print(\"放映時間： \"+\" \".join(movie_time))\n",
    "    print('')"
   ]
  },
  {
   "cell_type": "code",
   "execution_count": 60,
   "metadata": {},
   "outputs": [],
   "source": [
    "# 查看目前上映那些電影，並擷取出其ID資訊\n",
    "url = 'https://movies.yahoo.com.tw/'\n",
    "resp = requests.get(url)\n",
    "resp.encoding = 'utf-8'"
   ]
  },
  {
   "cell_type": "code",
   "execution_count": 61,
   "metadata": {},
   "outputs": [
    {
     "name": "stdout",
     "output_type": "stream",
     "text": [
      "1 導演先生的完美假期 Movie ID:10545\n",
      "2 大地蜜語 Movie ID:10513\n",
      "3 狂飆一夢 Movie ID:10506\n",
      "4 親愛的莎瑪 Movie ID:10491\n",
      "5 大畫特務 Movie ID:10478\n",
      "6 戰慄糖果屋 Movie ID:10472\n",
      "7 失戀殺人：三角禁戀 Movie ID:10465\n",
      "8 明明會說話 Movie ID:10440\n",
      "9 艾瑪 Movie ID:10396\n",
      "10 罪樂園 Movie ID:10349\n",
      "11 寄生上流：黑白版 Movie ID:10527\n",
      "12 千日千夜 Movie ID:10490\n",
      "13 咒怨2 電影版 Movie ID:10464\n",
      "14 鳴鳥不飛：烏雲密布 Movie ID:10458\n",
      "15 哥布林殺手 劇場版 Movie ID:10438\n",
      "16 女鬼橋 Movie ID:10437\n",
      "17 怨咒 Movie ID:10421\n",
      "18 娘娘腔日記 Movie ID:10401\n",
      "19 汪星人的奇幻漂流 Movie ID:10388\n",
      "20 極地守護犬 Movie ID:10383\n",
      "21 叔．叔 Movie ID:10371\n",
      "22 隱形人 Movie ID:10359\n",
      "23 失路人 Movie ID:10498\n",
      "24 電影音效傳奇：好萊塢之聲 Movie ID:10484\n",
      "25 悲慘世界 Movie ID:10479\n",
      "26 吹哨奇案 Movie ID:10475\n",
      "27 閃閃小超人電影版 Movie ID:10474\n",
      "28 少年阿罕默德 Movie ID:10468\n",
      "29 咒怨 電影版 Movie ID:10463\n",
      "30 陰櫥 Movie ID:10457\n",
      "31 絕命大平台 Movie ID:10447\n",
      "32 李察朱威爾事件 Movie ID:10368\n",
      "33 音速小子 Movie ID:9246\n",
      "34 你好．愛．再見 Movie ID:10501\n",
      "35 逃出夢幻島 Movie ID:10485\n",
      "36 雨天．紐約 Movie ID:10476\n",
      "37 失控少年兵團 Movie ID:10456\n",
      "38 超＂人＂氣動物園 Movie ID:10445\n",
      "39 就愛斷捨離 Movie ID:10436\n",
      "40 蜜蜂與遠雷 Movie ID:10419\n",
      "41 電影版 輝夜姬想讓人告白～天才們的戀愛頭腦戰～ Movie ID:10405\n",
      "42 古曼童 Movie ID:10399\n",
      "43 猛禽小隊：小丑女大解放 Movie ID:10268\n",
      "44 紅鞋公主與七矮人 Movie ID:10417\n",
      "45 1917 Movie ID:10189\n",
      "46 你的情歌 Movie ID:10407\n",
      "47 紳士追殺令 Movie ID:10317\n",
      "48 杜立德 Movie ID:10316\n",
      "49 她們 Movie ID:10202\n",
      "50 變身特務 Movie ID:9008\n",
      "51 巧虎電影：英雄遊樂園 Movie ID:10429\n",
      "52 青春催落去 Movie ID:10404\n",
      "53 絕地戰警FOR LIFE Movie ID:10242\n",
      "54 星星知我心 Movie ID:10409\n",
      "55 逃出天堂島 Movie ID:10384\n",
      "56 魯邦三世 The First Movie ID:10355\n",
      "57 別告訴她 Movie ID:10382\n",
      "58 真愛裁會贏 Movie ID:10362\n",
      "59 潛艦追緝 Movie ID:10333\n",
      "60 霹靂嬌娃 Movie ID:10124\n",
      "61 CATS貓 Movie ID:10166\n",
      "62 STAR WARS : 天行者的崛起 Movie ID:10225\n",
      "63 復仇母親 Movie ID:10392\n",
      "64 8級警戒 Movie ID:10323\n",
      "65 黑色聖誕節 Movie ID:10291\n",
      "66 去年聖誕節 Movie ID:10256\n",
      "67 野蠻遊戲：全面晉級 Movie ID:10134\n",
      "68 寂寞診療室 Movie ID:10282\n",
      "69 賽道狂人 Movie ID:10097\n",
      "70 冰雪奇緣2 Movie ID:9597\n",
      "71 萬萬沒想到 Movie ID:10281\n",
      "72 救火奶爸 Movie ID:10164\n",
      "73 決戰中途島 Movie ID:10130\n",
      "74 魔鬼終結者：黑暗宿命 Movie ID:10067\n",
      "75 絕鯊47：猛鯊出籠 Movie ID:10214\n",
      "76 貓咪知道但是貓咪不說 Movie ID:10203\n",
      "77 天氣之子 Movie ID:10091\n",
      "78 寄生上流 Movie ID:10020\n",
      "79 一首搖滾上月球 Movie ID:4887\n",
      "80 錢不夠用2 Movie ID:3026\n"
     ]
    }
   ],
   "source": [
    "soup = BeautifulSoup(resp.text, 'lxml')\n",
    "\n",
    "for index, ele, in enumerate(soup.select('#sbox_mid')[0].find_all(\"option\")):\n",
    "    if index == 0:\n",
    "        pass\n",
    "    else:\n",
    "        print(f'{index} {ele.text} Movie ID:{ele[\"value\"]}')"
   ]
  },
  {
   "cell_type": "code",
   "execution_count": 75,
   "metadata": {},
   "outputs": [
    {
     "name": "stdout",
     "output_type": "stream",
     "text": [
      "[{'area_id': 28, 'title': '台北市', 'priority': 150, 'ts_update': 1547519309}, {'area_id': 16, 'title': '桃園', 'priority': 140, 'ts_update': 1547452573}, {'area_id': 2, 'title': '台中', 'priority': 125, 'ts_update': 1547507368}, {'area_id': 10, 'title': '台南', 'priority': 100, 'ts_update': 1547507403}, {'area_id': 17, 'title': '高雄', 'priority': 95, 'ts_update': 1547507403}]\n"
     ]
    }
   ],
   "source": [
    "movie_id = 10545\n",
    "url = 'https://movies.yahoo.com.tw/api/v1/areas_by_movie_theater'\n",
    "payload = {'movie_id':str(movie_id)}\n",
    "\n",
    "# 模擬一個header\n",
    "headers = {\n",
    "    'authority': 'movies.yahoo.com.tw',\n",
    "    'method': 'GET',\n",
    "    'path': '/api/v1/areas_by_movie_theater?movie_id=' + str(movie_id),\n",
    "    'scheme': 'https',\n",
    "    'accept': 'application/json, text/javascript, */*; q=0.01',\n",
    "    'accept-encoding': 'gzip, deflate, br',\n",
    "    'accept-language': 'zh-TW,zh;q=0.9,en-US;q=0.8,en;q=0.7,zh-CN;q=0.6',\n",
    "    'cookie': 'rxx=9s3x2fws06.1g16irnc&v=1; _ga=GA1.3.2056742944.1551651301; GUC=AQEBAQFczFpdm0IfmwSB&s=AQAAACoo4N5D&g=XMsVBw; BX=4hkdk1decm57t&b=3&s=mr; _ga=GA1.4.2056742944.1551651301; nexagesuid=82843256dd234e8e91aa73f2062f8218; browsed_movie=eyJpdiI6IlJXWWtiSWJaZlNGK2MxQnhscnVUYWc9PSIsInZhbHVlIjoiMXRhMmVHRXRIeUNjc1RBWDJzdGYwbnlIQURmWGsrcjJSMzhkbkcraDNJVUNIZEZsbzU3amlFcVZ1NzlmazJrTGpoMjVrbHk1YmpoRENXaHZTOUw1TmI2ZTZVWHdOejZQZm16RmVuMWlHTTJLaTZLVFZZVkFOMDlTd1wvSGltcytJIiwibWFjIjoiZWQ2ZjA4MmVjZmZlYjlmNjJmYmY2NGMyMDI0Njc0NWViYjVkOWE2NDg0N2RhODMxZjBjZDhiMmJhZTc2MDZhYiJ9; avi=eyJpdiI6Im1NeWFJRlVRWDR1endEcGRGUGJUbVE9PSIsInZhbHVlIjoickRpU3JuUytmcGl6cjF5OW0rNU9iZz09IiwibWFjIjoiY2VmY2NkNzZmM2NhNjY5YzlkOTcyNjE5OGEyMzU0NWYxOTdmMDRkMDY3OWNmMmZjOTMxYjc5MjI5N2Q5NGE5MiJ9; cmp=t=1559391030&j=0; _gid=GA1.4.779543841.1559391031; XSRF-TOKEN=eyJpdiI6IkhpS2hGcDRQaHlmWUJmaHdSS2Q2bHc9PSIsInZhbHVlIjoiOUVoNFk4OHI1UUZmUWRtYXhza0MyWjJSTlhlZ3RnT0VGeVJPN2JuczVRMGRFdWt2OUlsamVKeHRobFwvcHBGM0dhU3VyMXNGTHlsb2dVM2l0U1hpUGxBPT0iLCJtYWMiOiJkZWU4YzJhNjAxMTY3MzE4Y2ExNWIxYmE1ZjE1YWZlZTlhOTcyYjc4M2RlZGY4ZWNjZDYyMTA2NGYwZGViMzc2In0%3D; m_s=eyJpdiI6InpsZHZ2Tk1BZ0dxaHhETml1RjBnUXc9PSIsInZhbHVlIjoiSkNGeHUranRoXC85bDFiaDhySTJqNkJRcWdjWUxjeVRJSHVYZ1wvd2d4bWJZUTUrSHVDM0lUcW5KNHdETFZ4T1lieU81OUhzc1VoUXhZcWk0UDZSQXVFdz09IiwibWFjIjoiYmJkMDJkMDhlODIzMzcyMWY4M2NmYWNjNGVlOWRjMDIwZmVmNzAyMjE3Yzg3ZGY3ODBkZWEzZTI4MTI5ZWNmOSJ9; _gat=1; nexagesd=10',\n",
    "    'dnt': '1',\n",
    "    'mv-authorization': '21835b082e15b91a69b3851eec7b31b82ce82afb',\n",
    "    'referer': 'https://movies.yahoo.com.tw/',\n",
    "    'user-agent': 'Mozilla/5.0 (Windows NT 10.0; Win64; x64) AppleWebKit/537.36 (KHTML, like Gecko) Chrome/74.0.3729.169 Safari/537.36',\n",
    "    'x-requested-with': 'XMLHttpRequest',\n",
    "}\n",
    "    \n",
    "resp = requests.get(url, params=payload, headers=headers)\n",
    "print(resp.json())  # 若有需要，列印出json原始碼\n"
   ]
  },
  {
   "cell_type": "code",
   "execution_count": 78,
   "metadata": {},
   "outputs": [
    {
     "name": "stdout",
     "output_type": "stream",
     "text": [
      "[{'area_id': 28, 'priority': 150, 'title': '台北市', 'ts_update': 1547519309},\n",
      " {'area_id': 16, 'priority': 140, 'title': '桃園', 'ts_update': 1547452573},\n",
      " {'area_id': 2, 'priority': 125, 'title': '台中', 'ts_update': 1547507368},\n",
      " {'area_id': 10, 'priority': 100, 'title': '台南', 'ts_update': 1547507403},\n",
      " {'area_id': 17, 'priority': 95, 'title': '高雄', 'ts_update': 1547507403}]\n"
     ]
    }
   ],
   "source": [
    "import pprint\n",
    "pprint.pprint(resp.json()) "
   ]
  },
  {
   "cell_type": "code",
   "execution_count": 79,
   "metadata": {},
   "outputs": [
    {
     "name": "stdout",
     "output_type": "stream",
     "text": [
      "放映地區: 台北市, 代號(area_id): 28\n",
      "放映地區: 桃園, 代號(area_id): 16\n",
      "放映地區: 台中, 代號(area_id): 2\n",
      "放映地區: 台南, 代號(area_id): 10\n",
      "放映地區: 高雄, 代號(area_id): 17\n"
     ]
    }
   ],
   "source": [
    "# 這裡回傳的格式是JSON格式的資料，要解析JSON擷取資料\n",
    "for p in resp.json():\n",
    "    print('放映地區: {0}, 代號(area_id): {1}'.format(p['title'], p['area_id']))"
   ]
  },
  {
   "cell_type": "code",
   "execution_count": 73,
   "metadata": {},
   "outputs": [
    {
     "name": "stdout",
     "output_type": "stream",
     "text": [
      "三月 9\n",
      "三月 10\n",
      "三月 11\n",
      "三月 12\n",
      "三月 13\n"
     ]
    }
   ],
   "source": [
    "area_id = 28\n",
    "movie_id = 10545\n",
    "\n",
    "# 向網站發送請求\n",
    "# https://movies.yahoo.com.tw/movietime_result.html?movie_id=10513&area_id=28\n",
    "url = 'https://movies.yahoo.com.tw/movietime_result.html'\n",
    "payload = {'movie_id':str(movie_id), 'area_id':str(area_id)}\n",
    "resp = requests.get(url, params=payload)\n",
    "resp.encoding = 'utf-8'\n",
    "\n",
    "soup = BeautifulSoup(resp.text, 'lxml')\n",
    "movie_date = soup.find_all(\"label\", attrs={'for':re.compile(\"date_[\\d]\")})\n",
    "\n",
    "# 列印播放日期\n",
    "for date in movie_date:\n",
    "    print(\"%s %s\" % (date.p.string, date.h3.string))"
   ]
  },
  {
   "cell_type": "code",
   "execution_count": 74,
   "metadata": {},
   "outputs": [
    {
     "data": {
      "text/plain": [
       "{'movie_id': '10545', 'area_id': '28'}"
      ]
     },
     "execution_count": 74,
     "metadata": {},
     "output_type": "execute_result"
    }
   ],
   "source": [
    "payload = {'movie_id':str(movie_id), 'area_id':str(area_id)}\n",
    "payload"
   ]
  }
 ],
 "metadata": {
  "kernelspec": {
   "display_name": "Python 3",
   "language": "python",
   "name": "python3"
  },
  "language_info": {
   "codemirror_mode": {
    "name": "ipython",
    "version": 3
   },
   "file_extension": ".py",
   "mimetype": "text/x-python",
   "name": "python",
   "nbconvert_exporter": "python",
   "pygments_lexer": "ipython3",
   "version": "3.7.4"
  },
  "nbTranslate": {
   "displayLangs": [
    "*"
   ],
   "hotkey": "alt-t",
   "langInMainMenu": true,
   "sourceLang": "en",
   "targetLang": "fr",
   "useGoogleTranslate": true
  },
  "toc": {
   "base_numbering": 1,
   "nav_menu": {},
   "number_sections": true,
   "sideBar": true,
   "skip_h1_title": false,
   "title_cell": "Table of Contents",
   "title_sidebar": "Contents",
   "toc_cell": false,
   "toc_position": {},
   "toc_section_display": true,
   "toc_window_display": false
  },
  "varInspector": {
   "cols": {
    "lenName": 16,
    "lenType": 16,
    "lenVar": 40
   },
   "kernels_config": {
    "python": {
     "delete_cmd_postfix": "",
     "delete_cmd_prefix": "del ",
     "library": "var_list.py",
     "varRefreshCmd": "print(var_dic_list())"
    },
    "r": {
     "delete_cmd_postfix": ") ",
     "delete_cmd_prefix": "rm(",
     "library": "var_list.r",
     "varRefreshCmd": "cat(var_dic_list()) "
    }
   },
   "types_to_exclude": [
    "module",
    "function",
    "builtin_function_or_method",
    "instance",
    "_Feature"
   ],
   "window_display": false
  }
 },
 "nbformat": 4,
 "nbformat_minor": 2
}
