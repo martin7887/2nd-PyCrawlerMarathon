{
 "cells": [
  {
   "cell_type": "markdown",
   "metadata": {},
   "source": [
    "# API 資料串接 - 以 Dcard API 實作範例\n",
    "\n",
    "* 了解 Dcard API 使用方式與回傳內容\n",
    "* 撰寫程式存取 API 且解析 JSON 格式資料\n"
   ]
  },
  {
   "cell_type": "markdown",
   "metadata": {},
   "source": [
    "## 作業目標\n",
    "\n",
    "* 請利用 API: https://www.dcard.tw/_api/forums/pet/posts?popular=true 回答下列問題：\n",
    "\n",
    "1. 這個 API 一次會回傳幾筆資料？每一筆資料包含哪些欄位？\n",
    "2. 取出每一筆資料的「標題」、「貼文時間」、「留言人數」、「按讚人數」\n",
    "3. 計算熱門/非熱門文章的「平均留言人數」與「平均按讚人數」"
   ]
  },
  {
   "cell_type": "code",
   "execution_count": null,
   "metadata": {},
   "outputs": [],
   "source": [
    "# 1. 這個 API 一次會回傳幾筆資料？每一筆資料包含哪些欄位？\n",
    "import requests\n",
    "import json\n",
    "\n",
    "apiurl = 'https://www.dcard.tw/_api/forums/pet/posts?popular=true'\n",
    "resp = requests.get(apiurl)"
   ]
  },
  {
   "cell_type": "code",
   "execution_count": 11,
   "metadata": {},
   "outputs": [
    {
     "name": "stdout",
     "output_type": "stream",
     "text": [
      "這個 API 一次會回傳30筆資料\n",
      "每一筆資料包含以下欄位 ['id', 'title', 'excerpt', 'anonymousSchool', 'anonymousDepartment', 'pinned', 'forumId', 'replyId', 'createdAt', 'updatedAt', 'commentCount', 'likeCount', 'withNickname', 'tags', 'topics', 'meta', 'forumName', 'forumAlias', 'gender', 'school', 'replyTitle', 'mediaMeta', 'reactions', 'hidden', 'customStyle', 'isSuspiciousAccount', 'layout', 'withImages', 'withVideos', 'media', 'reportReasonText', 'postAvatar']\n"
     ]
    }
   ],
   "source": [
    "resp_json = json.loads(resp.text)\n",
    "print(f'這個 API 一次會回傳{len(resp_json)}筆資料')\n",
    "print('每一筆資料包含以下欄位',list(resp_json[0].keys()))"
   ]
  },
  {
   "cell_type": "code",
   "execution_count": 17,
   "metadata": {},
   "outputs": [
    {
     "name": "stdout",
     "output_type": "stream",
     "text": [
      "標題:  有人有看過這麼有喜感的貓嗎\n",
      "貼文時間:  2020-02-27T00:41:45.740Z\n",
      "留言人數:  49\n",
      "按讚人數:  1135\n",
      "====================\n",
      "標題:  你要工人？\n",
      "貼文時間:  2020-02-26T18:35:16.716Z\n",
      "留言人數:  9\n",
      "按讚人數:  963\n",
      "====================\n",
      "標題:  我的夢幻玉米蛇😭\n",
      "貼文時間:  2020-02-26T17:59:21.848Z\n",
      "留言人數:  33\n",
      "按讚人數:  886\n",
      "====================\n",
      "標題:  小蝦蝦不知道可不可以上熱門🥺\n",
      "貼文時間:  2020-02-26T22:13:53.583Z\n",
      "留言人數:  30\n",
      "按讚人數:  207\n",
      "====================\n",
      "標題:  天氣好想拍貓 天氣不好想拍貓\n",
      "貼文時間:  2020-02-26T17:05:42.877Z\n",
      "留言人數:  1\n",
      "按讚人數:  183\n",
      "====================\n",
      "標題:  #圖 在公園遛天竺鼠ヽ(✿ﾟ▽ﾟ)ノ\n",
      "貼文時間:  2020-02-27T08:00:49.162Z\n",
      "留言人數:  5\n",
      "按讚人數:  60\n",
      "====================\n",
      "標題:  看起來很衰的臘腸狗\n",
      "貼文時間:  2020-02-27T03:24:54.078Z\n",
      "留言人數:  4\n",
      "按讚人數:  39\n",
      "====================\n",
      "標題:  不喜歡洗澡的狗\n",
      "貼文時間:  2020-02-27T01:06:35.270Z\n",
      "留言人數:  9\n",
      "按讚人數:  28\n",
      "====================\n",
      "標題:  習慣躺枕頭睡覺\n",
      "貼文時間:  2020-02-27T05:50:41.877Z\n",
      "留言人數:  3\n",
      "按讚人數:  20\n",
      "====================\n",
      "標題:  拍屁屁奴隸的心聲\n",
      "貼文時間:  2020-02-27T13:38:01.565Z\n",
      "留言人數:  2\n",
      "按讚人數:  17\n",
      "====================\n",
      "標題:  柴柴從後面看像什麼！\n",
      "貼文時間:  2020-02-26T18:19:46.140Z\n",
      "留言人數:  2\n",
      "按讚人數:  15\n",
      "====================\n",
      "標題:  露屁屁外星人\n",
      "貼文時間:  2020-02-27T07:09:01.168Z\n",
      "留言人數:  0\n",
      "按讚人數:  12\n",
      "====================\n",
      "標題:  當你家的貓在看風景時⋯\n",
      "貼文時間:  2020-02-27T06:48:59.523Z\n",
      "留言人數:  0\n",
      "按讚人數:  12\n",
      "====================\n",
      "標題:  朕想怎麼睡 就怎麼睡(˶‾᷄ ⁻̫ ‾᷅˵)\n",
      "貼文時間:  2020-02-27T19:53:48.404Z\n",
      "留言人數:  0\n",
      "按讚人數:  11\n",
      "====================\n",
      "標題:  來曬一下可爾必思\n",
      "貼文時間:  2020-02-27T08:19:49.020Z\n",
      "留言人數:  1\n",
      "按讚人數:  11\n",
      "====================\n",
      "標題:  家有小三\n",
      "貼文時間:  2020-02-27T10:14:48.735Z\n",
      "留言人數:  0\n",
      "按讚人數:  10\n",
      "====================\n",
      "標題:  來曬一下家裡的黑狗🐶\n",
      "貼文時間:  2020-02-27T21:10:15.772Z\n",
      "留言人數:  1\n",
      "按讚人數:  9\n",
      "====================\n",
      "標題:  🐔抓癢\n",
      "貼文時間:  2020-02-27T05:50:48.792Z\n",
      "留言人數:  3\n",
      "按讚人數:  7\n",
      "====================\n",
      "標題:  學妹揪我一起看貓\n",
      "貼文時間:  2020-02-27T05:18:10.961Z\n",
      "留言人數:  4\n",
      "按讚人數:  7\n",
      "====================\n",
      "標題:  #協尋紅貴賓#彰化埔心\n",
      "貼文時間:  2020-02-27T17:05:28.180Z\n",
      "留言人數:  2\n",
      "按讚人數:  6\n",
      "====================\n",
      "標題:  從小養到大的主子真的信任我嗎\n",
      "貼文時間:  2020-02-27T08:13:49.089Z\n",
      "留言人數:  6\n",
      "按讚人數:  6\n",
      "====================\n",
      "標題:  新手開缸小紀錄｜準備&第一天\n",
      "貼文時間:  2020-02-26T22:43:32.501Z\n",
      "留言人數:  7\n",
      "按讚人數:  6\n",
      "====================\n",
      "標題:  賤人！\n",
      "貼文時間:  2020-02-27T17:57:19.700Z\n",
      "留言人數:  1\n",
      "按讚人數:  5\n",
      "====================\n",
      "標題:  [抒發文]小狗狗去天堂了\n",
      "貼文時間:  2020-02-27T14:08:40.800Z\n",
      "留言人數:  3\n",
      "按讚人數:  5\n",
      "====================\n",
      "標題:  回不去的喵喵\n",
      "貼文時間:  2020-02-27T01:49:34.657Z\n",
      "留言人數:  1\n",
      "按讚人數:  5\n",
      "====================\n",
      "標題:  文長 我擁有全世界最棒的貓咪\n",
      "貼文時間:  2020-02-27T23:47:16.852Z\n",
      "留言人數:  3\n",
      "按讚人數:  4\n",
      "====================\n",
      "標題:  圖多，厭世又不失禮貌系列梗圖\n",
      "貼文時間:  2020-02-27T11:22:05.786Z\n",
      "留言人數:  0\n",
      "按讚人數:  4\n",
      "====================\n",
      "標題:  倒下的貓\n",
      "貼文時間:  2020-02-27T06:28:59.575Z\n",
      "留言人數:  0\n",
      "按讚人數:  4\n",
      "====================\n",
      "標題:  《黑皮真的很happy》也是結紮小紀錄\n",
      "貼文時間:  2020-02-26T15:58:20.343Z\n",
      "留言人數:  2\n",
      "按讚人數:  4\n",
      "====================\n",
      "標題:  看那顫抖的小眼眶\n",
      "貼文時間:  2020-02-27T22:52:19.976Z\n",
      "留言人數:  2\n",
      "按讚人數:  3\n",
      "====================\n"
     ]
    }
   ],
   "source": [
    "# 2. 取出每一筆資料的「標題」、「貼文時間」、「留言人數」、「按讚人數」\n",
    "\n",
    "for ele in resp_json:\n",
    "    print('標題: ',ele['title'])\n",
    "    print('貼文時間: ',ele['createdAt'])\n",
    "    print('留言人數: ',ele['commentCount'])\n",
    "    print('按讚人數: ',ele['likeCount'])\n",
    "    print('='*20)"
   ]
  },
  {
   "cell_type": "code",
   "execution_count": 37,
   "metadata": {},
   "outputs": [],
   "source": [
    "# 3. 計算熱門/非熱門文章的「平均留言人數」與「平均按讚人數」\n",
    "\n",
    "apiurl_pop = 'https://www.dcard.tw/_api/forums/relationship/posts?popular=true'\n",
    "resp_pop = requests.get(apiurl_pop)\n",
    "\n",
    "apiurl_nopop = 'https://www.dcard.tw/_api/forums/relationship/posts?popular=false'\n",
    "resp_nopop = requests.get(apiurl_nopop)"
   ]
  },
  {
   "cell_type": "code",
   "execution_count": 38,
   "metadata": {},
   "outputs": [],
   "source": [
    "resp_pop_json = json.loads(resp_pop.text)\n",
    "resp_nopop_json = json.loads(resp_nopop.text)"
   ]
  },
  {
   "cell_type": "code",
   "execution_count": 45,
   "metadata": {},
   "outputs": [
    {
     "name": "stdout",
     "output_type": "stream",
     "text": [
      "熱門「平均留言人數」有64，「平均按讚人數」有876個\n"
     ]
    }
   ],
   "source": [
    "commentCount,likeCount = 0,0\n",
    "for ele in resp_pop_json:\n",
    "    commentCount+=ele['commentCount']\n",
    "    likeCount+=ele['likeCount']\n",
    "\n",
    "result = f'熱門「平均留言人數」有{int(commentCount/30)}，「平均按讚人數」有{int(likeCount/30)}個'\n",
    "print(result)"
   ]
  },
  {
   "cell_type": "code",
   "execution_count": 46,
   "metadata": {},
   "outputs": [
    {
     "name": "stdout",
     "output_type": "stream",
     "text": [
      "非熱門「平均留言人數」有2，「平均按讚人數」有2個\n"
     ]
    }
   ],
   "source": [
    "\n",
    "commentCount,likeCount = 0,0\n",
    "for ele in resp_nopop_json:\n",
    "    commentCount+=ele['commentCount']\n",
    "    likeCount+=ele['likeCount']\n",
    "\n",
    "result = f'非熱門「平均留言人數」有{int(commentCount/30)}，「平均按讚人數」有{int(likeCount/30)}個'\n",
    "print(result)"
   ]
  }
 ],
 "metadata": {
  "kernelspec": {
   "display_name": "Python 3",
   "language": "python",
   "name": "python3"
  },
  "language_info": {
   "codemirror_mode": {
    "name": "ipython",
    "version": 3
   },
   "file_extension": ".py",
   "mimetype": "text/x-python",
   "name": "python",
   "nbconvert_exporter": "python",
   "pygments_lexer": "ipython3",
   "version": "3.7.4"
  },
  "nbTranslate": {
   "displayLangs": [
    "*"
   ],
   "hotkey": "alt-t",
   "langInMainMenu": true,
   "sourceLang": "en",
   "targetLang": "fr",
   "useGoogleTranslate": true
  },
  "toc": {
   "base_numbering": 1,
   "nav_menu": {},
   "number_sections": true,
   "sideBar": true,
   "skip_h1_title": false,
   "title_cell": "Table of Contents",
   "title_sidebar": "Contents",
   "toc_cell": false,
   "toc_position": {},
   "toc_section_display": true,
   "toc_window_display": false
  }
 },
 "nbformat": 4,
 "nbformat_minor": 2
}
